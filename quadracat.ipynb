{
 "cells": [
  {
   "cell_type": "code",
   "execution_count": 1,
   "metadata": {},
   "outputs": [
    {
     "name": "stderr",
     "output_type": "stream",
     "text": [
      "\u001b[32m\u001b[1m  Activating\u001b[22m\u001b[39m project at `c:\\Users\\aphia\\Desktop\\school\\ocrl\\QuadraCat`\n"
     ]
    }
   ],
   "source": [
    "import Pkg\n",
    "Pkg.activate(@__DIR__)\n",
    "Pkg.instantiate()\n",
    "import MathOptInterface as MOI\n",
    "import Ipopt \n",
    "using LinearAlgebra, Plots\n",
    "import FiniteDiff\n",
    "import ForwardDiff as FD\n",
    "using MeshCat\n",
    "using Test\n",
    "using Plots"
   ]
  },
  {
   "cell_type": "code",
   "execution_count": 2,
   "metadata": {},
   "outputs": [
    {
     "data": {
      "text/plain": [
       "initialize_visualizer (generic function with 1 method)"
      ]
     },
     "metadata": {},
     "output_type": "display_data"
    }
   ],
   "source": [
    "# include the functions from quadruped.jl\n",
    "include(joinpath(@__DIR__, \"utils\", \"fmincon.jl\"))\n",
    "include(joinpath(@__DIR__, \"utils\", \"quadruped.jl\"))\n",
    "\n",
    "# this loads in our continuous time dynamics function xdot = dynamics(model, x, u)"
   ]
  },
  {
   "cell_type": "code",
   "execution_count": 3,
   "metadata": {},
   "outputs": [
    {
     "data": {
      "text/plain": [
       "UnitreeA1{StateCache{Float64, TypeSortedCollections.TypeSortedCollection{Tuple{Vector{Joint{Float64, Revolute{Float64}}}, Vector{Joint{Float64, Fixed{Float64}}}}, 2}}}(Spanning tree:\n",
       "Vertex: world (root)\n",
       "  Vertex: dummy1_RR, Edge: foot_joint_x_RR\n",
       "    Vertex: dummy2_RR, Edge: foot_joint_y_RR\n",
       "      Vertex: RR_foot, Edge: foot_joint_z_RR\n",
       "        Vertex: RR_calf, Edge: RR_foot_fixed\n",
       "          Vertex: RR_thigh, Edge: RR_calf_joint\n",
       "            Vertex: RR_hip, Edge: RR_thigh_joint\n",
       "              Vertex: trunk, Edge: RR_hip_joint\n",
       "                Vertex: imu_link, Edge: imu_joint\n",
       "                Vertex: FR_hip, Edge: FR_hip_joint\n",
       "                  Vertex: FR_thigh, Edge: FR_thigh_joint\n",
       "                    Vertex: FR_calf, Edge: FR_calf_joint\n",
       "                      Vertex: FR_foot, Edge: FR_foot_fixed\n",
       "                Vertex: FL_hip, Edge: FL_hip_joint\n",
       "                  Vertex: FL_thigh, Edge: FL_thigh_joint\n",
       "                    Vertex: FL_calf, Edge: FL_calf_joint\n",
       "                      Vertex: FL_foot, Edge: FL_foot_fixed\n",
       "                Vertex: RL_hip, Edge: RL_hip_joint\n",
       "                  Vertex: RL_thigh, Edge: RL_thigh_joint\n",
       "                    Vertex: RL_calf, Edge: RL_calf_joint\n",
       "                      Vertex: RL_foot, Edge: RL_foot_fixed\n",
       "                Vertex: base, Edge: floating_base\n",
       "No non-tree joints., StateCache{…}(…), DynamicsResultCache{Float64}(…), [0.0, 0.0, 0.0, 0.0, 0.0, 0.0, 0.0, 0.0, 0.0, 0.0  …  0.0, 0.0, 0.0, 0.0, 0.0, 0.0, 0.0, 0.0, 0.0, 0.0])"
      ]
     },
     "metadata": {},
     "output_type": "display_data"
    }
   ],
   "source": [
    "model = UnitreeA1() # contains all the model properties for the quadruped\n",
    "\n",
    "# tf = 5\n",
    "# dt = 0.1\n",
    "\n",
    "# t_vec = 0:dt:tf \n",
    "# N = length(t_vec)\n",
    "# X = [zeros(state_dim(model)) for i in 1:N]"
   ]
  },
  {
   "cell_type": "code",
   "execution_count": 4,
   "metadata": {},
   "outputs": [
    {
     "data": {
      "text/plain": [
       "rk4 (generic function with 1 method)"
      ]
     },
     "metadata": {},
     "output_type": "display_data"
    }
   ],
   "source": [
    "## set up discrete time dynamics\n",
    "\n",
    "function stance_dynamics(params::NamedTuple, x::Vector, u::Vector)::Vector\n",
    "    model = params.model\n",
    "    return dynamics(model, x, u)\n",
    "end\n",
    "\n",
    "function flight_dynamics(params::NamedTuple, x::Vector, u::Vector)::Vector\n",
    "    g = params.g\n",
    "    v = x[16:end]\n",
    "\n",
    "    v̇ = [0; 0; -g; zeros(12)]\n",
    "\n",
    "    return [v; v̇]\n",
    "end\n",
    "\n",
    "function hermite_simpson_ground(params::NamedTuple, x1::Vector, x2::Vector, u::Vector, dt::Real)::Vector\n",
    "    model = params.model\n",
    "    x12 = 0.5*(x1+x2) + dt/8*(dynamics(model, x1, u) - dynamics(model, x2, u))\n",
    "    return x1 + dt/6 * (dynamics(model, x1, u) + 4 * dynamics(model, x12, u) + dynamics(model, x2, u)) - x2\n",
    "end\n",
    "\n",
    "function hermite_simpson_flight(params::NamedTuple, x1::Vector, x2::Vector, u::Vector, dt::Real)::Vector\n",
    "    x12 = 0.5*(x1+x2) + dt/8*(flight_dynamics(params, x1, u) - flight_dynamics(params, x2, u))\n",
    "    return x1 + dt/6 * (flight_dynamics(params, x1, u) + 4 * flight_dynamics(params, x12, u) \n",
    "    + flight_dynamics(params, x2, u)) - x2\n",
    "end\n",
    "\n",
    "function jump_map(x::Vector)::Vector \n",
    "    # quadracat leaves the ground \n",
    "    # maintain joint and body positon, body velocity, zero joint velocities\n",
    "    xn = [x[1:18]; zeros(12)]\n",
    "    return xn\n",
    "end\n",
    "\n",
    "function rk4(params::NamedTuple, ode::Function, x::Vector, u::Vector, dt::Real)::Vector\n",
    "    k1 = dt * ode(params, x,        u)\n",
    "    k2 = dt * ode(params, x + k1/2, u)\n",
    "    k3 = dt * ode(params, x + k2/2, u)\n",
    "    k4 = dt * ode(params, x + k3,   u)\n",
    "    return x + (1/6)*(k1 + 2*k2 + 2*k3 + k4)\n",
    "end  "
   ]
  },
  {
   "cell_type": "code",
   "execution_count": 5,
   "metadata": {},
   "outputs": [
    {
     "data": {
      "text/plain": [
       "get_foot_position (generic function with 2 methods)"
      ]
     },
     "metadata": {},
     "output_type": "display_data"
    }
   ],
   "source": [
    "function get_foot_position(params::NamedTuple, x::Vector, foot=\"RR\")\n",
    "    model = params.model\n",
    "    mech = params.model.mech \n",
    "    T = eltype(x)\n",
    "    state = MechanismState{T}(mech)\n",
    "    set_configuration!(state, x[1:state_dim(model)÷2])\n",
    "\n",
    "    world = root_body(mech) # world = findbody(mech, \"world\")\n",
    "    foot_body = findbody(mech, foot * \"_foot\")\n",
    "    tf_world = relative_transform(state, default_frame(world), default_frame(foot_body))\n",
    "    foot_pos_world = translation(tf_world)\n",
    "    return foot_pos_world\n",
    "end"
   ]
  },
  {
   "cell_type": "code",
   "execution_count": 6,
   "metadata": {},
   "outputs": [
    {
     "data": {
      "text/plain": [
       "create_idx (generic function with 1 method)"
      ]
     },
     "metadata": {},
     "output_type": "display_data"
    }
   ],
   "source": [
    "function create_idx(nx,nu,N)\n",
    "    # This function creates some useful indexing tools for Z \n",
    "    # x_i = Z[idx.x[i]]\n",
    "    # u_i = Z[idx.u[i]]    \n",
    "    \n",
    "    # our Z vector is [x0, u0, x1, u1, …, xN]\n",
    "    nz = (N-1) * nu + N * nx # length of Z \n",
    "    x = [(i - 1) * (nx + nu) .+ (1 : nx) for i = 1:N]\n",
    "    u = [(i - 1) * (nx + nu) .+ ((nx + 1):(nx + nu)) for i = 1:(N - 1)]\n",
    "    \n",
    "    # constraint indexing for the (N-1) dynamics constraints when stacked up\n",
    "    c = [(i - 1) * (nx) .+ (1 : nx) for i = 1:(N - 1)]\n",
    "    nc = (N - 1) * nx # (N-1)*nx \n",
    "    \n",
    "    return (nx=nx,nu=nu,N=N,nz=nz,nc=nc,x= x,u = u,c = c)\n",
    "end"
   ]
  },
  {
   "cell_type": "code",
   "execution_count": 7,
   "metadata": {},
   "outputs": [
    {
     "data": {
      "text/plain": [
       "quadracat_cost (generic function with 1 method)"
      ]
     },
     "metadata": {},
     "output_type": "display_data"
    }
   ],
   "source": [
    "## set up cost\n",
    "\n",
    "function quadracat_cost(params::NamedTuple, Z::Vector)::Real\n",
    "    idx, N, xg = params.idx, params.N, params.xg\n",
    "    Q, R, Qf = params.Q, params.R, params.Qf\n",
    "\n",
    "    J = 0\n",
    "    for i = 1:(N-1)\n",
    "        xi = Z[idx.x[i]]\n",
    "        ui = Z[idx.u[i]]\n",
    "       \n",
    "        J += 0.5*(xi - xg)' * Q * (xi - xg) + 0.5*ui' * R * ui\n",
    "\n",
    "    end\n",
    "\n",
    "    xn = Z[idx.x[N]]\n",
    "    J += 0.5 * (xn - xg)' * Qf * (xn - xg)\n",
    "\n",
    "    return J\n",
    "\n",
    "end"
   ]
  },
  {
   "cell_type": "markdown",
   "metadata": {},
   "source": [
    "Which goes into the following full optimization problem:\n",
    "$$ \\begin{align} \\min_{x_{1:N},u_{1:N-1}} \\quad & J(x_{1:N},u_{1:N-1}) & \\\\ \n",
    "\\text{st} \\quad &  x_1 = x_{ic} & \\tag{1}\\\\\n",
    "\\quad & x_N = x_{g} &\\tag{2}\\\\\n",
    "&  x_{k+1} = f_1(x_k,u_k)  &\\text{for } k \\in  \\mathcal{M}_1 \\setminus \\mathcal{J}_1 \\tag{3}\\\\ \n",
    "&  x_{k+1} = f_2(x_k,u_k)  &\\text{for } k \\in  \\mathcal{M}_2 \\setminus \\mathcal{J}_2 \\tag{4}\\\\ \n",
    "&  x_{k+1} = g_2(f_1(x_k,u_k))  &\\text{for } k \\in   \\mathcal{J}_1 \\tag{5}\\\\ \n",
    "&  foot position_z = 0  &\\text{for } k \\in   \\mathcal{M}_1 \\tag{6}\\\\ \n",
    "&  x_{k}[3] \\geq 0 & \\text{for } k \\in [1, N]\\tag{7}\n",
    "\\end{align}$$\n",
    "\n",
    "Each constraint is now described, with the type of constraint for `fmincon` in parantheses:\n",
    "1. Initial condition constraint **(equality constraint)**. \n",
    "2. Terminal condition constraint **(equality constraint)**. \n",
    "3. Stance 1 discrete dynamics **(equality constraint)**. \n",
    "4. Stance 2 discrete dynamics **(equality constraint)**. \n",
    "5. Discrete dynamics from stance 1 to stance 2 with jump map **(equality constraint)**. \n",
    "6. Make sure all 4 feet are pinned to the ground in stance 1 **(equality constraint)**.\n",
    "7. Keep the z position of all 3 bodies above ground **(primal bound)**."
   ]
  },
  {
   "cell_type": "code",
   "execution_count": 8,
   "metadata": {},
   "outputs": [
    {
     "data": {
      "text/plain": [
       "quadracat_equality_constraint (generic function with 1 method)"
      ]
     },
     "metadata": {},
     "output_type": "display_data"
    }
   ],
   "source": [
    "## set up equality constraints \n",
    "\n",
    "function quadracat_dynamics_constraints(params::NamedTuple, Z::Vector)::Vector\n",
    "    idx, N, dt = params.idx, params.N, params.dt\n",
    "    M1, M2 = params.M1, params.M2 \n",
    "    J1 = params.J1\n",
    "    model = params.model \n",
    "\n",
    "    c = zeros(eltype(Z), idx.nc)\n",
    "\n",
    "    for i=1:(N-1)\n",
    "        xk = Z[idx.x[i]]\n",
    "        uk = Z[idx.u[i]]\n",
    "        xk1 = Z[idx.x[i+1]]\n",
    "        if (i in M1) && !(i in J1) # stance 1 discrete dynamics\n",
    "            c[idx.c[i]] = xk1-rk4(params, stance_dynamics, xk, uk, dt)\n",
    "        elseif (i in M2) # stance 2 discrete dynamics\n",
    "            c[idx.c[i]] = xk1-rk4(params, flight_dynamics, xk, uk, dt)\n",
    "        elseif (i in J1) # jump map from stance 1 to stance 2\n",
    "            c[idx.c[i]] = xk1-jump_map(rk4(params, stance_dynamics, xk, uk, dt))\n",
    "        end\n",
    "    end\n",
    "    return c \n",
    "end\n",
    "\n",
    "function quadracat_stance_constraint(params::NamedTuple, Z::Vector)::Vector\n",
    "    idx, N, dt, model = params.idx, params.N, params.dt, params.model\n",
    "    M1, M2 = params.M1, params.M2 \n",
    "    J1 = params.J1\n",
    "    \n",
    "    model = params.model \n",
    "        \n",
    "    # create c in a ForwardDiff friendly way (check HW0)\n",
    "    c = zeros(eltype(Z), length(M1)*4)\n",
    "    \n",
    "    # TODO: add stance constraints (constraints 6 in the opti problem)\n",
    "    for i=1:length(M1)\n",
    "        xk = Z[idx.x[M1[i]]]\n",
    "        q = xk[1:state_dim(model)÷2]\n",
    "        c[4*(i-1) .+ (1:4)] = [\n",
    "                            get_foot_position(params, xk, \"RR\")[3]; \n",
    "                            get_foot_position(params, xk, \"RL\")[3];\n",
    "                            get_foot_position(params, xk, \"FL\")[3];\n",
    "                            get_foot_position(params, xk, \"FR\")[3]\n",
    "                            ]\n",
    "    end\n",
    "\n",
    "    return c\n",
    "\n",
    "end\n",
    "\n",
    "function quadracat_equality_constraint(params::NamedTuple, Z::Vector)::Vector\n",
    "    N, idx, xic, xg = params.N, params.idx, params.xic, params.xg \n",
    "    \n",
    "    # TODO: stack up all of our equality constraints \n",
    "    \n",
    "    # should be length 2*nx + (N-1)*nx + N \n",
    "    # inital condition constraint (nx)       (constraint 1)\n",
    "    # terminal constraint         (nx)       (constraint 2)\n",
    "    # dynamics constraints        (N-1)*nx   (constraint 3-6)\n",
    "    # stance constraint           N          (constraint 7-8)\n",
    "    ic_con = Z[idx.x[1]] - xic\n",
    "    ter_con = Z[idx.x[N]] - xg\n",
    "    return [ic_con; \n",
    "    #ter_con; \n",
    "    quadracat_dynamics_constraints(params, Z); \n",
    "    quadracat_stance_constraint(params, Z)\n",
    "    ]\n",
    "end"
   ]
  },
  {
   "cell_type": "code",
   "execution_count": 15,
   "metadata": {},
   "outputs": [
    {
     "data": {
      "text/plain": [
       "quadracat_inequality_constraint (generic function with 1 method)"
      ]
     },
     "metadata": {},
     "output_type": "display_data"
    }
   ],
   "source": [
    "## set up inequality constraint \n",
    "\n",
    "function quadracat_inequality_constraint(params::NamedTuple, Z::Vector)::Vector\n",
    "    idx, N, dt = params.idx, params.N, params.dt\n",
    "    xg = params.xg\n",
    "        \n",
    "    # create c in a ForwardDiff friendly way (check HW0)\n",
    "    # c = zeros(eltype(Z), 1)\n",
    "    c = [norm(Z[idx.x[N]][3] - xg[3])]\n",
    "\n",
    "    return c\n",
    "end"
   ]
  },
  {
   "cell_type": "code",
   "execution_count": 10,
   "metadata": {},
   "outputs": [
    {
     "data": {
      "text/plain": [
       "reference_trajectory (generic function with 1 method)"
      ]
     },
     "metadata": {},
     "output_type": "display_data"
    }
   ],
   "source": [
    "## reference trajectory (straight line)\n",
    "\n",
    "function reference_trajectory(params::NamedTuple, xic::Vector, xg::Vector)\n",
    "    N = params.N\n",
    "    Uref = [0.001*randn(params.nu) for i in 1:(N-1)]\n",
    "\n",
    "    Xref = range(xic, xg, N)\n",
    "\n",
    "    return Xref, Uref\n",
    "end"
   ]
  },
  {
   "cell_type": "code",
   "execution_count": 13,
   "metadata": {},
   "outputs": [
    {
     "data": {
      "text/plain": [
       "solve_quadracat_jump (generic function with 1 method)"
      ]
     },
     "metadata": {},
     "output_type": "display_data"
    }
   ],
   "source": [
    "function solve_quadracat_jump(;verbose=true)\n",
    "    \n",
    "    # problem size \n",
    "    nx = state_dim(model)\n",
    "    nu = control_dim(model)\n",
    "    # placeholder values for now. might need to tweak\n",
    "    tf = 1.5\n",
    "    dt = 0.15\n",
    "    \n",
    "    t_vec = 0:dt:tf \n",
    "    N = length(t_vec)\n",
    "    \n",
    "    # LQR cost \n",
    "    Q = diagm(ones(nx))\n",
    "    R = 0.1*diagm(ones(nu))\n",
    "    Qf = 10*diagm(ones(nx))\n",
    "    \n",
    "    # indexing \n",
    "    idx = create_idx(nx,nu,N)\n",
    "    \n",
    "    # initial and goal states \n",
    "    xic = initial_state(model)\n",
    "    xg = deepcopy(xic)\n",
    "    xg[3] = 0.5\n",
    "\n",
    "    # index sets \n",
    "    t_jump = 1.0\n",
    "    J1 = [findfirst(t -> t ≥ t_jump, t_vec)]\n",
    "    M1 = collect(1:J1[1])\n",
    "    M2 = collect((J1[1]+1):N)\n",
    "\n",
    "    # load all useful things into params \n",
    "    params = (\n",
    "        model=model,\n",
    "        nx=nx, \n",
    "        nu=nu, \n",
    "        Q = Q, \n",
    "        R = R, \n",
    "        Qf = Qf, \n",
    "        xic = xic, \n",
    "        xg = xg, \n",
    "        dt = dt, \n",
    "        N = N, \n",
    "        idx = idx,\n",
    "        J1 = J1,\n",
    "        M1 = M1,\n",
    "        M2 = M2,\n",
    "        g = 9.81,\n",
    "        )\n",
    "    \n",
    "    # TODO: primal bounds (constraint 9)\n",
    "    x_l = -Inf*ones(idx.nz)\n",
    "    x_u = Inf*ones(idx.nz)\n",
    "    for i = 1:N\n",
    "        x_l[idx.x[i][3]] = 0\n",
    "    end\n",
    "    \n",
    "    # inequality constraint bounds (this is what we do when we have no inequality constraints)\n",
    "    c_l = zeros(1) #zeros(0)\n",
    "    c_u = [1e-2]\n",
    "    # function inequality_constraint(params, Z)\n",
    "    #     return zeros(eltype(Z), 0)\n",
    "    # end\n",
    "    \n",
    "    # initial guess \n",
    "    Xref, Uref = reference_trajectory(params, xic, xg)\n",
    "    z0 = zeros(idx.nz)\n",
    "    for i=1:(N-1)\n",
    "        z0[idx.x[i]] = Xref[i]\n",
    "        z0[idx.u[i]] = Uref[i]\n",
    "    end\n",
    "    z0[idx.x[N]] = Xref[N]\n",
    "    \n",
    "    # choose diff type (try :auto, then use :finite if :auto doesn't work)\n",
    "    diff_type = :auto \n",
    "#     diff_type = :finite\n",
    "    \n",
    "    \n",
    "    Z = fmincon(quadracat_cost,quadracat_equality_constraint,quadracat_inequality_constraint,\n",
    "                x_l,x_u,c_l,c_u,z0,params, diff_type;\n",
    "                tol = 1e-6, c_tol = 1e-6, max_iters = 10_000, verbose = verbose)\n",
    "    \n",
    "    # pull the X and U solutions out of Z \n",
    "    X = [Z[idx.x[i]] for i = 1:N]\n",
    "    U = [Z[idx.u[i]] for i = 1:(N-1)]\n",
    "    \n",
    "    return X, U, t_vec, params \n",
    "end"
   ]
  },
  {
   "cell_type": "code",
   "execution_count": null,
   "metadata": {},
   "outputs": [
    {
     "name": "stdout",
     "output_type": "stream",
     "text": [
      "---------checking dimensions of everything----------\n",
      "---------all dimensions good------------------------\n",
      "---------diff type set to :auto (ForwardDiff.jl)----\n",
      "---------testing objective gradient-----------------\n",
      "---------testing constraint Jacobian----------------\n"
     ]
    }
   ],
   "source": [
    "X, U, t_vec, params_dircol = solve_quadracat_jump(verbose=true)"
   ]
  },
  {
   "cell_type": "code",
   "execution_count": null,
   "metadata": {},
   "outputs": [],
   "source": [
    "## Do stuff here...\n",
    "## Finally, simulate forward pass to update state of robot in X"
   ]
  },
  {
   "cell_type": "code",
   "execution_count": null,
   "metadata": {},
   "outputs": [],
   "source": [
    "# ------------plotting--------------\n",
    "Xm = hcat(X...)\n",
    "Um = hcat(U...)\n",
    "\n",
    "plot(t_vec, Xm[3,:], xlabel=\"Time Step\", ylabel=\"Base Height (m)\", title=\"Jump Trajectory\")"
   ]
  },
  {
   "cell_type": "code",
   "execution_count": null,
   "metadata": {},
   "outputs": [],
   "source": [
    "qs = [xk[1:state_dim(model)÷2] for xk in X] # extract positions from state vector\n",
    "\n",
    "mvis = initialize_visualizer(model)\n",
    "xic = initial_state(model)\n",
    "set_configuration!(mvis, xic[1:state_dim(model)÷2])\n",
    "anim = MeshCat.Animation(mvis, t_vec, qs)\n",
    "setanimation!(mvis, anim)\n",
    "render(mvis)"
   ]
  },
  {
   "cell_type": "code",
   "execution_count": null,
   "metadata": {},
   "outputs": [],
   "source": []
  }
 ],
 "metadata": {
  "kernelspec": {
   "display_name": "Julia 1.10.7",
   "language": "julia",
   "name": "julia-1.10"
  },
  "language_info": {
   "file_extension": ".jl",
   "mimetype": "application/julia",
   "name": "julia",
   "version": "1.10.7"
  }
 },
 "nbformat": 4,
 "nbformat_minor": 2
}
