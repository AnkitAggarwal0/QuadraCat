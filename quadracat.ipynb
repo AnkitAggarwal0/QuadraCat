{
 "cells": [
  {
   "cell_type": "code",
   "execution_count": null,
   "metadata": {},
   "outputs": [],
   "source": [
    "import Pkg\n",
    "Pkg.activate(@__DIR__)\n",
    "Pkg.instantiate()\n",
    "using LinearAlgebra, Plots\n",
    "import ForwardDiff as FD\n",
    "using MeshCat\n",
    "using Test\n",
    "using Plots"
   ]
  },
  {
   "cell_type": "code",
   "execution_count": null,
   "metadata": {},
   "outputs": [],
   "source": [
    "# include the functions from quadruped.jl\n",
    "include(joinpath(@__DIR__, \"quadruped.jl\"))\n",
    "\n",
    "# this loads in our continuous time dynamics function xdot = dynamics(model, x, u)"
   ]
  },
  {
   "cell_type": "code",
   "execution_count": null,
   "metadata": {},
   "outputs": [],
   "source": [
    "model = UnitreeA1() # contains all the model properties for the quadruped\n",
    "\n",
    "# placeholder values for now. might need to tweak\n",
    "tf = 5\n",
    "dt = 0.1 \n",
    "t_vec = 0:dt:tf \n",
    "N = length(t_vec)"
   ]
  },
  {
   "cell_type": "code",
   "execution_count": null,
   "metadata": {},
   "outputs": [],
   "source": [
    "X = [zeros(state_dim(model)) for i=1:N]"
   ]
  },
  {
   "cell_type": "code",
   "execution_count": null,
   "metadata": {},
   "outputs": [],
   "source": [
    "## Do stuff here...\n",
    "## Finally, simulate forward pass to update state of robot in X"
   ]
  },
  {
   "cell_type": "code",
   "execution_count": null,
   "metadata": {},
   "outputs": [],
   "source": [
    "qs = [xk[1:state_dim(model)÷2] for xk in X] # extract positions from state vector\n",
    "\n",
    "mvis = initialize_visualizer(model)\n",
    "anim = MeshCat.Animation(mvis, t_vec, qs, fps=floor(Int,1/dt))\n",
    "# not sure if we need to do this for a MechanismVisualizer, uncomment and retry if we do\n",
    "# for k = 1:N\n",
    "#     atframe(anim, k) do \n",
    "#         q = qs[k]\n",
    "#         set_configuration!(mvis, q[1:state_dim(model)÷2])\n",
    "#     end\n",
    "# end\n",
    "setanimation!(mvis, anim)\n",
    "render(mvis)"
   ]
  }
 ],
 "metadata": {
  "kernelspec": {
   "display_name": "Julia 1.10.7",
   "language": "julia",
   "name": "julia-1.10"
  },
  "language_info": {
   "file_extension": ".jl",
   "mimetype": "application/julia",
   "name": "julia",
   "version": "1.10.7"
  }
 },
 "nbformat": 4,
 "nbformat_minor": 2
}
