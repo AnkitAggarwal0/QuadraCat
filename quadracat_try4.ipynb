{
 "cells": [
  {
   "cell_type": "code",
   "execution_count": 1,
   "id": "6e0be53a",
   "metadata": {},
   "outputs": [
    {
     "name": "stderr",
     "output_type": "stream",
     "text": [
      "\u001b[32m\u001b[1m  Activating\u001b[22m\u001b[39m project at `c:\\Users\\aphia\\Desktop\\school\\ocrl\\QuadraCat`\n"
     ]
    },
    {
     "data": {
      "text/plain": [
       "fmincon (generic function with 1 method)"
      ]
     },
     "metadata": {},
     "output_type": "display_data"
    }
   ],
   "source": [
    "import Pkg\n",
    "Pkg.activate(@__DIR__)\n",
    "Pkg.instantiate()\n",
    "import MathOptInterface as MOI\n",
    "import Ipopt \n",
    "using LinearAlgebra, Plots\n",
    "import FiniteDiff\n",
    "import ForwardDiff as FD\n",
    "using MeshCat\n",
    "using Test\n",
    "using Plots\n",
    "\n",
    "include(joinpath(@__DIR__, \"utils\", \"fmincon.jl\"))"
   ]
  },
  {
   "cell_type": "code",
   "execution_count": 2,
   "id": "6519387b",
   "metadata": {},
   "outputs": [
    {
     "name": "stdout",
     "output_type": "stream",
     "text": [
      "num_positions(model.mech) = 19\n",
      "num_velocities(model.mech) = 18\n",
      "joints(model.mech) = Joint{Float64, JT} where JT<:JointType{Float64}[Joint \"base_to_world\": Quaternion floating joint, Joint \"floating_base\": Fixed joint, Joint \"imu_joint\": Fixed joint, Joint \"FR_hip_joint\": Revolute joint with axis [1.0, 0.0, 0.0], Joint \"FL_hip_joint\": Revolute joint with axis [1.0, 0.0, 0.0], Joint \"RR_hip_joint\": Revolute joint with axis [1.0, 0.0, 0.0], Joint \"RL_hip_joint\": Revolute joint with axis [1.0, 0.0, 0.0], Joint \"FR_thigh_joint\": Revolute joint with axis [0.0, 1.0, 0.0], Joint \"FL_thigh_joint\": Revolute joint with axis [0.0, 1.0, 0.0], Joint \"RR_thigh_joint\": Revolute joint with axis [0.0, 1.0, 0.0], Joint \"RL_thigh_joint\": Revolute joint with axis [0.0, 1.0, 0.0], Joint \"FR_calf_joint\": Revolute joint with axis [0.0, 1.0, 0.0], Joint \"FL_calf_joint\": Revolute joint with axis [0.0, 1.0, 0.0], Joint \"RR_calf_joint\": Revolute joint with axis [0.0, 1.0, 0.0], Joint \"RL_calf_joint\": Revolute joint with axis [0.0, 1.0, 0.0], Joint \"FR_foot_fixed\": Fixed joint, Joint \"FL_foot_fixed\": Fixed joint, Joint \"RR_foot_fixed\": Fixed joint, Joint \"RL_foot_fixed\": Fixed joint]\n",
      "bodies(model.mech) = RigidBody{Float64}[RigidBody: \"world\", RigidBody: \"base\", RigidBody: \"trunk\", RigidBody: \"imu_link\", RigidBody: \"FR_hip\", RigidBody: \"FL_hip\", RigidBody: \"RR_hip\", RigidBody: \"RL_hip\", RigidBody: \"FR_thigh\", RigidBody: \"FL_thigh\", RigidBody: \"RR_thigh\", RigidBody: \"RL_thigh\", RigidBody: \"FR_calf\", RigidBody: \"FL_calf\", RigidBody: \"RR_calf\", RigidBody: \"RL_calf\", RigidBody: \"FR_foot\", RigidBody: \"FL_foot\", RigidBody: \"RR_foot\", RigidBody: \"RL_foot\"]\n"
     ]
    },
    {
     "data": {
      "text/plain": [
       "20-element Vector{RigidBody{Float64}}:\n",
       " RigidBody: \"world\"\n",
       " RigidBody: \"base\"\n",
       " RigidBody: \"trunk\"\n",
       " RigidBody: \"imu_link\"\n",
       " RigidBody: \"FR_hip\"\n",
       " RigidBody: \"FL_hip\"\n",
       " RigidBody: \"RR_hip\"\n",
       " RigidBody: \"RL_hip\"\n",
       " RigidBody: \"FR_thigh\"\n",
       " RigidBody: \"FL_thigh\"\n",
       " RigidBody: \"RR_thigh\"\n",
       " RigidBody: \"RL_thigh\"\n",
       " RigidBody: \"FR_calf\"\n",
       " RigidBody: \"FL_calf\"\n",
       " RigidBody: \"RR_calf\"\n",
       " RigidBody: \"RL_calf\"\n",
       " RigidBody: \"FR_foot\"\n",
       " RigidBody: \"FL_foot\"\n",
       " RigidBody: \"RR_foot\"\n",
       " RigidBody: \"RL_foot\""
      ]
     },
     "metadata": {},
     "output_type": "display_data"
    }
   ],
   "source": [
    "include(joinpath(@__DIR__, \"utils\", \"quadruped_new.jl\"))\n",
    "model = UnitreeA1()\n",
    "@show num_positions(model.mech)\n",
    "@show num_velocities(model.mech)\n",
    "@show joints(model.mech)\n",
    "@show bodies(model.mech)"
   ]
  },
  {
   "cell_type": "code",
   "execution_count": 3,
   "id": "bdad372a",
   "metadata": {},
   "outputs": [
    {
     "name": "stdout",
     "output_type": "stream",
     "text": [
      "get_trunk_position(model, q) = [0.0, 0.0, 0.2571150438746157]\n",
      "get_foot_position(model, q, \"RR\") = [-0.183, -0.13205, -2.7755575615628914e-17]\n",
      "get_foot_position(model, q, \"FL\") = [0.183, 0.13205, -2.7755575615628914e-17]\n",
      "get_trunk_velocity(model, xic) = [0.0, 0.0, 0.0]\n"
     ]
    },
    {
     "data": {
      "text/plain": [
       "3-element SVector{3, Float64} with indices SOneTo(3):\n",
       " 0.0\n",
       " 0.0\n",
       " 0.0"
      ]
     },
     "metadata": {},
     "output_type": "display_data"
    }
   ],
   "source": [
    "xic = initial_state(model)\n",
    "q = xic[1:num_positions(model.mech)]\n",
    "\n",
    "@show get_trunk_position(model, q)\n",
    "@show get_foot_position(model, q, \"RR\")\n",
    "@show get_foot_position(model, q, \"FL\")\n",
    "@show get_trunk_velocity(model, xic)"
   ]
  },
  {
   "cell_type": "code",
   "execution_count": 4,
   "id": "7a2e663f",
   "metadata": {},
   "outputs": [
    {
     "name": "stderr",
     "output_type": "stream",
     "text": [
      "┌ Info: Listening on: 127.0.0.1:8700, thread id: 1\n",
      "└ @ HTTP.Servers C:\\Users\\aphia\\.julia\\packages\\HTTP\\MIUdD\\src\\Servers.jl:382\n",
      "┌ Info: MeshCat server started. You can open the visualizer by visiting the following URL in your browser:\n",
      "│ http://127.0.0.1:8700\n",
      "└ @ MeshCat C:\\Users\\aphia\\.julia\\packages\\MeshCat\\9QrxD\\src\\visualizer.jl:43\n"
     ]
    },
    {
     "data": {
      "text/html": [
       "    <div style=\"height: 500px; width: 100%; overflow-x: auto; overflow-y: hidden; resize: both\">\n",
       "    <iframe src=\"http://127.0.0.1:8700\" style=\"width: 100%; height: 100%; border: none\"></iframe>\n",
       "    </div>\n"
      ],
      "text/plain": [
       "MeshCat.DisplayedVisualizer(MeshCat.CoreVisualizer(MeshCat.SceneTrees.SceneNode(nothing, nothing, Dict{String, Vector{UInt8}}(), nothing, Dict{String, MeshCat.SceneTrees.SceneNode}(\"meshcat\" => MeshCat.SceneTrees.SceneNode(nothing, nothing, Dict{String, Vector{UInt8}}(), nothing, Dict{String, MeshCat.SceneTrees.SceneNode}(\"block\" => MeshCat.SceneTrees.SceneNode(UInt8[0x83, 0xa6, 0x6f, 0x62, 0x6a, 0x65, 0x63, 0x74, 0x84, 0xaa  …  0x68, 0x63, 0x61, 0x74, 0x2f, 0x62, 0x6c, 0x6f, 0x63, 0x6b], UInt8[0x83, 0xa6, 0x6d, 0x61, 0x74, 0x72, 0x69, 0x78, 0xc7, 0x40  …  0x68, 0x63, 0x61, 0x74, 0x2f, 0x62, 0x6c, 0x6f, 0x63, 0x6b], Dict{String, Vector{UInt8}}(), nothing, Dict{String, MeshCat.SceneTrees.SceneNode}()), \"world\" => MeshCat.SceneTrees.SceneNode(nothing, nothing, Dict{String, Vector{UInt8}}(), nothing, Dict{String, MeshCat.SceneTrees.SceneNode}(\"base\" => MeshCat.SceneTrees.SceneNode(nothing, UInt8[0x83, 0xa6, 0x6d, 0x61, 0x74, 0x72, 0x69, 0x78, 0xc7, 0x40  …  0x77, 0x6f, 0x72, 0x6c, 0x64, 0x2f, 0x62, 0x61, 0x73, 0x65], Dict{String, Vector{UInt8}}(), nothing, Dict{String, MeshCat.SceneTrees.SceneNode}(\"trunk\" => MeshCat.SceneTrees.SceneNode(nothing, UInt8[0x83, 0xa6, 0x6d, 0x61, 0x74, 0x72, 0x69, 0x78, 0xc7, 0x40  …  0x62, 0x61, 0x73, 0x65, 0x2f, 0x74, 0x72, 0x75, 0x6e, 0x6b], Dict{String, Vector{UInt8}}(), nothing, Dict{String, MeshCat.SceneTrees.SceneNode}(\"after_floating_base\" => MeshCat.SceneTrees.SceneNode(nothing, UInt8[0x83, 0xa6, 0x6d, 0x61, 0x74, 0x72, 0x69, 0x78, 0xc7, 0x40  …  0x61, 0x74, 0x69, 0x6e, 0x67, 0x5f, 0x62, 0x61, 0x73, 0x65], Dict{String, Vector{UInt8}}(), nothing, Dict{String, MeshCat.SceneTrees.SceneNode}(\"geometry_2\" => MeshCat.SceneTrees.SceneNode(UInt8[0x83, 0xa6, 0x6f, 0x62, 0x6a, 0x65, 0x63, 0x74, 0x84, 0xaa  …  0x67, 0x65, 0x6f, 0x6d, 0x65, 0x74, 0x72, 0x79, 0x5f, 0x32], UInt8[0x83, 0xa6, 0x6d, 0x61, 0x74, 0x72, 0x69, 0x78, 0xc7, 0x40  …  0x67, 0x65, 0x6f, 0x6d, 0x65, 0x74, 0x72, 0x79, 0x5f, 0x32], Dict{String, Vector{UInt8}}(), nothing, Dict{String, MeshCat.SceneTrees.SceneNode}()))), \"RL_hip\" => MeshCat.SceneTrees.SceneNode(nothing, UInt8[0x83, 0xa6, 0x6d, 0x61, 0x74, 0x72, 0x69, 0x78, 0xc7, 0x40  …  0x75, 0x6e, 0x6b, 0x2f, 0x52, 0x4c, 0x5f, 0x68, 0x69, 0x70], Dict{String, Vector{UInt8}}(), nothing, Dict{String, MeshCat.SceneTrees.SceneNode}(\"RL_thigh\" => MeshCat.SceneTrees.SceneNode(nothing, UInt8[0x83, 0xa6, 0x6d, 0x61, 0x74, 0x72, 0x69, 0x78, 0xc7, 0x40  …  0x70, 0x2f, 0x52, 0x4c, 0x5f, 0x74, 0x68, 0x69, 0x67, 0x68], Dict{String, Vector{UInt8}}(), nothing, Dict{String, MeshCat.SceneTrees.SceneNode}(\"after_RL_thigh_joint\" => MeshCat.SceneTrees.SceneNode(nothing, UInt8[0x83, 0xa6, 0x6d, 0x61, 0x74, 0x72, 0x69, 0x78, 0xc7, 0x40  …  0x68, 0x69, 0x67, 0x68, 0x5f, 0x6a, 0x6f, 0x69, 0x6e, 0x74], Dict{String, Vector{UInt8}}(), nothing, Dict{String, MeshCat.SceneTrees.SceneNode}(\"geometry_17\" => MeshCat.SceneTrees.SceneNode(UInt8[0x83, 0xa6, 0x6f, 0x62, 0x6a, 0x65, 0x63, 0x74, 0x84, 0xaa  …  0x65, 0x6f, 0x6d, 0x65, 0x74, 0x72, 0x79, 0x5f, 0x31, 0x37], UInt8[0x83, 0xa6, 0x6d, 0x61, 0x74, 0x72, 0x69, 0x78, 0xc7, 0x40  …  0x65, 0x6f, 0x6d, 0x65, 0x74, 0x72, 0x79, 0x5f, 0x31, 0x37], Dict{String, Vector{UInt8}}(), nothing, Dict{String, MeshCat.SceneTrees.SceneNode}()))), \"RL_calf\" => MeshCat.SceneTrees.SceneNode(nothing, UInt8[0x83, 0xa6, 0x6d, 0x61, 0x74, 0x72, 0x69, 0x78, 0xc7, 0x40  …  0x67, 0x68, 0x2f, 0x52, 0x4c, 0x5f, 0x63, 0x61, 0x6c, 0x66], Dict{String, Vector{UInt8}}(), nothing, Dict{String, MeshCat.SceneTrees.SceneNode}(\"RL_foot\" => MeshCat.SceneTrees.SceneNode(nothing, UInt8[0x83, 0xa6, 0x6d, 0x61, 0x74, 0x72, 0x69, 0x78, 0xc7, 0x40  …  0x6c, 0x66, 0x2f, 0x52, 0x4c, 0x5f, 0x66, 0x6f, 0x6f, 0x74], Dict{String, Vector{UInt8}}(), nothing, Dict{String, MeshCat.SceneTrees.SceneNode}(\"after_RL_foot_fixed\" => MeshCat.SceneTrees.SceneNode(nothing, UInt8[0x83, 0xa6, 0x6d, 0x61, 0x74, 0x72, 0x69, 0x78, 0xc7, 0x40  …  0x66, 0x6f, 0x6f, 0x74, 0x5f, 0x66, 0x69, 0x78, 0x65, 0x64], Dict{String, Vector{UInt8}}(), nothing, Dict{String, MeshCat.SceneTrees.SceneNode}(\"geometry_19\" => MeshCat.SceneTrees.SceneNode(UInt8[0x83, 0xa6, 0x6f, 0x62, 0x6a, 0x65, 0x63, 0x74, 0x84, 0xaa  …  0x65, 0x6f, 0x6d, 0x65, 0x74, 0x72, 0x79, 0x5f, 0x31, 0x39], UInt8[0x83, 0xa6, 0x6d, 0x61, 0x74, 0x72, 0x69, 0x78, 0xc7, 0x40  …  0x65, 0x6f, 0x6d, 0x65, 0x74, 0x72, 0x79, 0x5f, 0x31, 0x39], Dict{String, Vector{UInt8}}(), nothing, Dict{String, MeshCat.SceneTrees.SceneNode}()))))), \"after_RL_calf_joint\" => MeshCat.SceneTrees.SceneNode(nothing, UInt8[0x83, 0xa6, 0x6d, 0x61, 0x74, 0x72, 0x69, 0x78, 0xc7, 0x40  …  0x63, 0x61, 0x6c, 0x66, 0x5f, 0x6a, 0x6f, 0x69, 0x6e, 0x74], Dict{String, Vector{UInt8}}(), nothing, Dict{String, MeshCat.SceneTrees.SceneNode}(\"geometry_18\" => MeshCat.SceneTrees.SceneNode(UInt8[0x83, 0xa6, 0x6f, 0x62, 0x6a, 0x65, 0x63, 0x74, 0x84, 0xaa  …  0x65, 0x6f, 0x6d, 0x65, 0x74, 0x72, 0x79, 0x5f, 0x31, 0x38], UInt8[0x83, 0xa6, 0x6d, 0x61, 0x74, 0x72, 0x69, 0x78, 0xc7, 0x40  …  0x65, 0x6f, 0x6d, 0x65, 0x74, 0x72, 0x79, 0x5f, 0x31, 0x38], Dict{String, Vector{UInt8}}(), nothing, Dict{String, MeshCat.SceneTrees.SceneNode}()))))))), \"after_RL_hip_joint\" => MeshCat.SceneTrees.SceneNode(nothing, UInt8[0x83, 0xa6, 0x6d, 0x61, 0x74, 0x72, 0x69, 0x78, 0xc7, 0x40  …  0x5f, 0x68, 0x69, 0x70, 0x5f, 0x6a, 0x6f, 0x69, 0x6e, 0x74], Dict{String, Vector{UInt8}}(), nothing, Dict{String, MeshCat.SceneTrees.SceneNode}(\"geometry_16\" => MeshCat.SceneTrees.SceneNode(UInt8[0x83, 0xa6, 0x6f, 0x62, 0x6a, 0x65, 0x63, 0x74, 0x84, 0xaa  …  0x65, 0x6f, 0x6d, 0x65, 0x74, 0x72, 0x79, 0x5f, 0x31, 0x36], UInt8[0x83, 0xa6, 0x6d, 0x61, 0x74, 0x72, 0x69, 0x78, 0xc7, 0x40  …  0x65, 0x6f, 0x6d, 0x65, 0x74, 0x72, 0x79, 0x5f, 0x31, 0x36], Dict{String, Vector{UInt8}}(), nothing, Dict{String, MeshCat.SceneTrees.SceneNode}()))))), \"FR_hip\" => MeshCat.SceneTrees.SceneNode(nothing, UInt8[0x83, 0xa6, 0x6d, 0x61, 0x74, 0x72, 0x69, 0x78, 0xc7, 0x40  …  0x75, 0x6e, 0x6b, 0x2f, 0x46, 0x52, 0x5f, 0x68, 0x69, 0x70], Dict{String, Vector{UInt8}}(), nothing, Dict{String, MeshCat.SceneTrees.SceneNode}(\"after_FR_hip_joint\" => MeshCat.SceneTrees.SceneNode(nothing, UInt8[0x83, 0xa6, 0x6d, 0x61, 0x74, 0x72, 0x69, 0x78, 0xc7, 0x40  …  0x5f, 0x68, 0x69, 0x70, 0x5f, 0x6a, 0x6f, 0x69, 0x6e, 0x74], Dict{String, Vector{UInt8}}(), nothing, Dict{String, MeshCat.SceneTrees.SceneNode}(\"geometry_4\" => MeshCat.SceneTrees.SceneNode(UInt8[0x83, 0xa6, 0x6f, 0x62, 0x6a, 0x65, 0x63, 0x74, 0x84, 0xaa  …  0x67, 0x65, 0x6f, 0x6d, 0x65, 0x74, 0x72, 0x79, 0x5f, 0x34], UInt8[0x83, 0xa6, 0x6d, 0x61, 0x74, 0x72, 0x69, 0x78, 0xc7, 0x40  …  0x67, 0x65, 0x6f, 0x6d, 0x65, 0x74, 0x72, 0x79, 0x5f, 0x34], Dict{String, Vector{UInt8}}(), nothing, Dict{String, MeshCat.SceneTrees.SceneNode}()))), \"FR_thigh\" => MeshCat.SceneTrees.SceneNode(nothing, UInt8[0x83, 0xa6, 0x6d, 0x61, 0x74, 0x72, 0x69, 0x78, 0xc7, 0x40  …  0x70, 0x2f, 0x46, 0x52, 0x5f, 0x74, 0x68, 0x69, 0x67, 0x68], Dict{String, Vector{UInt8}}(), nothing, Dict{String, MeshCat.SceneTrees.SceneNode}(\"FR_calf\" => MeshCat.SceneTrees.SceneNode(nothing, UInt8[0x83, 0xa6, 0x6d, 0x61, 0x74, 0x72, 0x69, 0x78, 0xc7, 0x40  …  0x67, 0x68, 0x2f, 0x46, 0x52, 0x5f, 0x63, 0x61, 0x6c, 0x66], Dict{String, Vector{UInt8}}(), nothing, Dict{String, MeshCat.SceneTrees.SceneNode}(\"FR_foot\" => MeshCat.SceneTrees.SceneNode(nothing, UInt8[0x83, 0xa6, 0x6d, 0x61, 0x74, 0x72, 0x69, 0x78, 0xc7, 0x40  …  0x6c, 0x66, 0x2f, 0x46, 0x52, 0x5f, 0x66, 0x6f, 0x6f, 0x74], Dict{String, Vector{UInt8}}(), nothing, Dict{String, MeshCat.SceneTrees.SceneNode}(\"after_FR_foot_fixed\" => MeshCat.SceneTrees.SceneNode(nothing, UInt8[0x83, 0xa6, 0x6d, 0x61, 0x74, 0x72, 0x69, 0x78, 0xc7, 0x40  …  0x66, 0x6f, 0x6f, 0x74, 0x5f, 0x66, 0x69, 0x78, 0x65, 0x64], Dict{String, Vector{UInt8}}(), nothing, Dict{String, MeshCat.SceneTrees.SceneNode}(\"geometry_7\" => MeshCat.SceneTrees.SceneNode(UInt8[0x83, 0xa6, 0x6f, 0x62, 0x6a, 0x65, 0x63, 0x74, 0x84, 0xaa  …  0x67, 0x65, 0x6f, 0x6d, 0x65, 0x74, 0x72, 0x79, 0x5f, 0x37], UInt8[0x83, 0xa6, 0x6d, 0x61, 0x74, 0x72, 0x69, 0x78, 0xc7, 0x40  …  0x67, 0x65, 0x6f, 0x6d, 0x65, 0x74, 0x72, 0x79, 0x5f, 0x37], Dict{String, Vector{UInt8}}(), nothing, Dict{String, MeshCat.SceneTrees.SceneNode}()))))), \"after_FR_calf_joint\" => MeshCat.SceneTrees.SceneNode(nothing, UInt8[0x83, 0xa6, 0x6d, 0x61, 0x74, 0x72, 0x69, 0x78, 0xc7, 0x40  …  0x63, 0x61, 0x6c, 0x66, 0x5f, 0x6a, 0x6f, 0x69, 0x6e, 0x74], Dict{String, Vector{UInt8}}(), nothing, Dict{String, MeshCat.SceneTrees.SceneNode}(\"geometry_6\" => MeshCat.SceneTrees.SceneNode(UInt8[0x83, 0xa6, 0x6f, 0x62, 0x6a, 0x65, 0x63, 0x74, 0x84, 0xaa  …  0x67, 0x65, 0x6f, 0x6d, 0x65, 0x74, 0x72, 0x79, 0x5f, 0x36], UInt8[0x83, 0xa6, 0x6d, 0x61, 0x74, 0x72, 0x69, 0x78, 0xc7, 0x40  …  0x67, 0x65, 0x6f, 0x6d, 0x65, 0x74, 0x72, 0x79, 0x5f, 0x36], Dict{String, Vector{UInt8}}(), nothing, Dict{String, MeshCat.SceneTrees.SceneNode}()))))), \"after_FR_thigh_joint\" => MeshCat.SceneTrees.SceneNode(nothing, UInt8[0x83, 0xa6, 0x6d, 0x61, 0x74, 0x72, 0x69, 0x78, 0xc7, 0x40  …  0x68, 0x69, 0x67, 0x68, 0x5f, 0x6a, 0x6f, 0x69, 0x6e, 0x74], Dict{String, Vector{UInt8}}(), nothing, Dict{String, MeshCat.SceneTrees.SceneNode}(\"geometry_5\" => MeshCat.SceneTrees.SceneNode(UInt8[0x83, 0xa6, 0x6f, 0x62, 0x6a, 0x65, 0x63, 0x74, 0x84, 0xaa  …  0x67, 0x65, 0x6f, 0x6d, 0x65, 0x74, 0x72, 0x79, 0x5f, 0x35], UInt8[0x83, 0xa6, 0x6d, 0x61, 0x74, 0x72, 0x69, 0x78, 0xc7, 0x40  …  0x67, 0x65, 0x6f, 0x6d, 0x65, 0x74, 0x72, 0x79, 0x5f, 0x35], Dict{String, Vector{UInt8}}(), nothing, Dict{String, MeshCat.SceneTrees.SceneNode}()))))))), \"RR_hip\" => MeshCat.SceneTrees.SceneNode(nothing, UInt8[0x83, 0xa6, 0x6d, 0x61, 0x74, 0x72, 0x69, 0x78, 0xc7, 0x40  …  0x75, 0x6e, 0x6b, 0x2f, 0x52, 0x52, 0x5f, 0x68, 0x69, 0x70], Dict{String, Vector{UInt8}}(), nothing, Dict{String, MeshCat.SceneTrees.SceneNode}(\"RR_thigh\" => MeshCat.SceneTrees.SceneNode(nothing, UInt8[0x83, 0xa6, 0x6d, 0x61, 0x74, 0x72, 0x69, 0x78, 0xc7, 0x40  …  0x70, 0x2f, 0x52, 0x52, 0x5f, 0x74, 0x68, 0x69, 0x67, 0x68], Dict{String, Vector{UInt8}}(), nothing, Dict{String, MeshCat.SceneTrees.SceneNode}(\"after_RR_thigh_joint\" => MeshCat.SceneTrees.SceneNode(nothing, UInt8[0x83, 0xa6, 0x6d, 0x61, 0x74, 0x72, 0x69, 0x78, 0xc7, 0x40  …  0x68, 0x69, 0x67, 0x68, 0x5f, 0x6a, 0x6f, 0x69, 0x6e, 0x74], Dict{String, Vector{UInt8}}(), nothing, Dict{String, MeshCat.SceneTrees.SceneNode}(\"geometry_13\" => MeshCat.SceneTrees.SceneNode(UInt8[0x83, 0xa6, 0x6f, 0x62, 0x6a, 0x65, 0x63, 0x74, 0x84, 0xaa  …  0x65, 0x6f, 0x6d, 0x65, 0x74, 0x72, 0x79, 0x5f, 0x31, 0x33], UInt8[0x83, 0xa6, 0x6d, 0x61, 0x74, 0x72, 0x69, 0x78, 0xc7, 0x40  …  0x65, 0x6f, 0x6d, 0x65, 0x74, 0x72, 0x79, 0x5f, 0x31, 0x33], Dict{String, Vector{UInt8}}(), nothing, Dict{String, MeshCat.SceneTrees.SceneNode}()))), \"RR_calf\" => MeshCat.SceneTrees.SceneNode(nothing, UInt8[0x83, 0xa6, 0x6d, 0x61, 0x74, 0x72, 0x69, 0x78, 0xc7, 0x40  …  0x67, 0x68, 0x2f, 0x52, 0x52, 0x5f, 0x63, 0x61, 0x6c, 0x66], Dict{String, Vector{UInt8}}(), nothing, Dict{String, MeshCat.SceneTrees.SceneNode}(\"after_RR_calf_joint\" => MeshCat.SceneTrees.SceneNode(nothing, UInt8[0x83, 0xa6, 0x6d, 0x61, 0x74, 0x72, 0x69, 0x78, 0xc7, 0x40  …  0x63, 0x61, 0x6c, 0x66, 0x5f, 0x6a, 0x6f, 0x69, 0x6e, 0x74], Dict{String, Vector{UInt8}}(), nothing, Dict{String, MeshCat.SceneTrees.SceneNode}(\"geometry_14\" => MeshCat.SceneTrees.SceneNode(UInt8[0x83, 0xa6, 0x6f, 0x62, 0x6a, 0x65, 0x63, 0x74, 0x84, 0xaa  …  0x65, 0x6f, 0x6d, 0x65, 0x74, 0x72, 0x79, 0x5f, 0x31, 0x34], UInt8[0x83, 0xa6, 0x6d, 0x61, 0x74, 0x72, 0x69, 0x78, 0xc7, 0x40  …  0x65, 0x6f, 0x6d, 0x65, 0x74, 0x72, 0x79, 0x5f, 0x31, 0x34], Dict{String, Vector{UInt8}}(), nothing, Dict{String, MeshCat.SceneTrees.SceneNode}()))), \"RR_foot\" => MeshCat.SceneTrees.SceneNode(nothing, UInt8[0x83, 0xa6, 0x6d, 0x61, 0x74, 0x72, 0x69, 0x78, 0xc7, 0x40  …  0x6c, 0x66, 0x2f, 0x52, 0x52, 0x5f, 0x66, 0x6f, 0x6f, 0x74], Dict{String, Vector{UInt8}}(), nothing, Dict{String, MeshCat.SceneTrees.SceneNode}(\"after_RR_foot_fixed\" => MeshCat.SceneTrees.SceneNode(nothing, UInt8[0x83, 0xa6, 0x6d, 0x61, 0x74, 0x72, 0x69, 0x78, 0xc7, 0x40  …  0x66, 0x6f, 0x6f, 0x74, 0x5f, 0x66, 0x69, 0x78, 0x65, 0x64], Dict{String, Vector{UInt8}}(), nothing, Dict{String, MeshCat.SceneTrees.SceneNode}(\"geometry_15\" => MeshCat.SceneTrees.SceneNode(UInt8[0x83, 0xa6, 0x6f, 0x62, 0x6a, 0x65, 0x63, 0x74, 0x84, 0xaa  …  0x65, 0x6f, 0x6d, 0x65, 0x74, 0x72, 0x79, 0x5f, 0x31, 0x35], UInt8[0x83, 0xa6, 0x6d, 0x61, 0x74, 0x72, 0x69, 0x78, 0xc7, 0x40  …  0x65, 0x6f, 0x6d, 0x65, 0x74, 0x72, 0x79, 0x5f, 0x31, 0x35], Dict{String, Vector{UInt8}}(), nothing, Dict{String, MeshCat.SceneTrees.SceneNode}()))))))))), \"after_RR_hip_joint\" => MeshCat.SceneTrees.SceneNode(nothing, UInt8[0x83, 0xa6, 0x6d, 0x61, 0x74, 0x72, 0x69, 0x78, 0xc7, 0x40  …  0x5f, 0x68, 0x69, 0x70, 0x5f, 0x6a, 0x6f, 0x69, 0x6e, 0x74], Dict{String, Vector{UInt8}}(), nothing, Dict{String, MeshCat.SceneTrees.SceneNode}(\"geometry_12\" => MeshCat.SceneTrees.SceneNode(UInt8[0x83, 0xa6, 0x6f, 0x62, 0x6a, 0x65, 0x63, 0x74, 0x84, 0xaa  …  0x65, 0x6f, 0x6d, 0x65, 0x74, 0x72, 0x79, 0x5f, 0x31, 0x32], UInt8[0x83, 0xa6, 0x6d, 0x61, 0x74, 0x72, 0x69, 0x78, 0xc7, 0x40  …  0x65, 0x6f, 0x6d, 0x65, 0x74, 0x72, 0x79, 0x5f, 0x31, 0x32], Dict{String, Vector{UInt8}}(), nothing, Dict{String, MeshCat.SceneTrees.SceneNode}()))))), \"FL_hip\" => MeshCat.SceneTrees.SceneNode(nothing, UInt8[0x83, 0xa6, 0x6d, 0x61, 0x74, 0x72, 0x69, 0x78, 0xc7, 0x40  …  0x75, 0x6e, 0x6b, 0x2f, 0x46, 0x4c, 0x5f, 0x68, 0x69, 0x70], Dict{String, Vector{UInt8}}(), nothing, Dict{String, MeshCat.SceneTrees.SceneNode}(\"after_FL_hip_joint\" => MeshCat.SceneTrees.SceneNode(nothing, UInt8[0x83, 0xa6, 0x6d, 0x61, 0x74, 0x72, 0x69, 0x78, 0xc7, 0x40  …  0x5f, 0x68, 0x69, 0x70, 0x5f, 0x6a, 0x6f, 0x69, 0x6e, 0x74], Dict{String, Vector{UInt8}}(), nothing, Dict{String, MeshCat.SceneTrees.SceneNode}(\"geometry_8\" => MeshCat.SceneTrees.SceneNode(UInt8[0x83, 0xa6, 0x6f, 0x62, 0x6a, 0x65, 0x63, 0x74, 0x84, 0xaa  …  0x67, 0x65, 0x6f, 0x6d, 0x65, 0x74, 0x72, 0x79, 0x5f, 0x38], UInt8[0x83, 0xa6, 0x6d, 0x61, 0x74, 0x72, 0x69, 0x78, 0xc7, 0x40  …  0x67, 0x65, 0x6f, 0x6d, 0x65, 0x74, 0x72, 0x79, 0x5f, 0x38], Dict{String, Vector{UInt8}}(), nothing, Dict{String, MeshCat.SceneTrees.SceneNode}()))), \"FL_thigh\" => MeshCat.SceneTrees.SceneNode(nothing, UInt8[0x83, 0xa6, 0x6d, 0x61, 0x74, 0x72, 0x69, 0x78, 0xc7, 0x40  …  0x70, 0x2f, 0x46, 0x4c, 0x5f, 0x74, 0x68, 0x69, 0x67, 0x68], Dict{String, Vector{UInt8}}(), nothing, Dict{String, MeshCat.SceneTrees.SceneNode}(\"after_FL_thigh_joint\" => MeshCat.SceneTrees.SceneNode(nothing, UInt8[0x83, 0xa6, 0x6d, 0x61, 0x74, 0x72, 0x69, 0x78, 0xc7, 0x40  …  0x68, 0x69, 0x67, 0x68, 0x5f, 0x6a, 0x6f, 0x69, 0x6e, 0x74], Dict{String, Vector{UInt8}}(), nothing, Dict{String, MeshCat.SceneTrees.SceneNode}(\"geometry_9\" => MeshCat.SceneTrees.SceneNode(UInt8[0x83, 0xa6, 0x6f, 0x62, 0x6a, 0x65, 0x63, 0x74, 0x84, 0xaa  …  0x67, 0x65, 0x6f, 0x6d, 0x65, 0x74, 0x72, 0x79, 0x5f, 0x39], UInt8[0x83, 0xa6, 0x6d, 0x61, 0x74, 0x72, 0x69, 0x78, 0xc7, 0x40  …  0x67, 0x65, 0x6f, 0x6d, 0x65, 0x74, 0x72, 0x79, 0x5f, 0x39], Dict{String, Vector{UInt8}}(), nothing, Dict{String, MeshCat.SceneTrees.SceneNode}()))), \"FL_calf\" => MeshCat.SceneTrees.SceneNode(nothing, UInt8[0x83, 0xa6, 0x6d, 0x61, 0x74, 0x72, 0x69, 0x78, 0xc7, 0x40  …  0x67, 0x68, 0x2f, 0x46, 0x4c, 0x5f, 0x63, 0x61, 0x6c, 0x66], Dict{String, Vector{UInt8}}(), nothing, Dict{String, MeshCat.SceneTrees.SceneNode}(\"FL_foot\" => MeshCat.SceneTrees.SceneNode(nothing, UInt8[0x83, 0xa6, 0x6d, 0x61, 0x74, 0x72, 0x69, 0x78, 0xc7, 0x40  …  0x6c, 0x66, 0x2f, 0x46, 0x4c, 0x5f, 0x66, 0x6f, 0x6f, 0x74], Dict{String, Vector{UInt8}}(), nothing, Dict{String, MeshCat.SceneTrees.SceneNode}(\"after_FL_foot_fixed\" => MeshCat.SceneTrees.SceneNode(nothing, UInt8[0x83, 0xa6, 0x6d, 0x61, 0x74, 0x72, 0x69, 0x78, 0xc7, 0x40  …  0x66, 0x6f, 0x6f, 0x74, 0x5f, 0x66, 0x69, 0x78, 0x65, 0x64], Dict{String, Vector{UInt8}}(), nothing, Dict{String, MeshCat.SceneTrees.SceneNode}(\"geometry_11\" => MeshCat.SceneTrees.SceneNode(UInt8[0x83, 0xa6, 0x6f, 0x62, 0x6a, 0x65, 0x63, 0x74, 0x84, 0xaa  …  0x65, 0x6f, 0x6d, 0x65, 0x74, 0x72, 0x79, 0x5f, 0x31, 0x31], UInt8[0x83, 0xa6, 0x6d, 0x61, 0x74, 0x72, 0x69, 0x78, 0xc7, 0x40  …  0x65, 0x6f, 0x6d, 0x65, 0x74, 0x72, 0x79, 0x5f, 0x31, 0x31], Dict{String, Vector{UInt8}}(), nothing, Dict{String, MeshCat.SceneTrees.SceneNode}()))))), \"after_FL_calf_joint\" => MeshCat.SceneTrees.SceneNode(nothing, UInt8[0x83, 0xa6, 0x6d, 0x61, 0x74, 0x72, 0x69, 0x78, 0xc7, 0x40  …  0x63, 0x61, 0x6c, 0x66, 0x5f, 0x6a, 0x6f, 0x69, 0x6e, 0x74], Dict{String, Vector{UInt8}}(), nothing, Dict{String, MeshCat.SceneTrees.SceneNode}(\"geometry_10\" => MeshCat.SceneTrees.SceneNode(UInt8[0x83, 0xa6, 0x6f, 0x62, 0x6a, 0x65, 0x63, 0x74, 0x84, 0xaa  …  0x65, 0x6f, 0x6d, 0x65, 0x74, 0x72, 0x79, 0x5f, 0x31, 0x30], UInt8[0x83, 0xa6, 0x6d, 0x61, 0x74, 0x72, 0x69, 0x78, 0xc7, 0x40  …  0x65, 0x6f, 0x6d, 0x65, 0x74, 0x72, 0x79, 0x5f, 0x31, 0x30], Dict{String, Vector{UInt8}}(), nothing, Dict{String, MeshCat.SceneTrees.SceneNode}()))))))))), \"imu_link\" => MeshCat.SceneTrees.SceneNode(nothing, UInt8[0x83, 0xa6, 0x6d, 0x61, 0x74, 0x72, 0x69, 0x78, 0xc7, 0x40  …  0x6b, 0x2f, 0x69, 0x6d, 0x75, 0x5f, 0x6c, 0x69, 0x6e, 0x6b], Dict{String, Vector{UInt8}}(), nothing, Dict{String, MeshCat.SceneTrees.SceneNode}(\"after_imu_joint\" => MeshCat.SceneTrees.SceneNode(nothing, UInt8[0x83, 0xa6, 0x6d, 0x61, 0x74, 0x72, 0x69, 0x78, 0xc7, 0x40  …  0x5f, 0x69, 0x6d, 0x75, 0x5f, 0x6a, 0x6f, 0x69, 0x6e, 0x74], Dict{String, Vector{UInt8}}(), nothing, Dict{String, MeshCat.SceneTrees.SceneNode}(\"geometry_3\" => MeshCat.SceneTrees.SceneNode(UInt8[0x83, 0xa6, 0x6f, 0x62, 0x6a, 0x65, 0x63, 0x74, 0x84, 0xaa  …  0x67, 0x65, 0x6f, 0x6d, 0x65, 0x74, 0x72, 0x79, 0x5f, 0x33], UInt8[0x83, 0xa6, 0x6d, 0x61, 0x74, 0x72, 0x69, 0x78, 0xc7, 0x40  …  0x67, 0x65, 0x6f, 0x6d, 0x65, 0x74, 0x72, 0x79, 0x5f, 0x33], Dict{String, Vector{UInt8}}(), nothing, Dict{String, MeshCat.SceneTrees.SceneNode}()))))))), \"base\" => MeshCat.SceneTrees.SceneNode(nothing, UInt8[0x83, 0xa6, 0x6d, 0x61, 0x74, 0x72, 0x69, 0x78, 0xc7, 0x40  …  0x2f, 0x62, 0x61, 0x73, 0x65, 0x2f, 0x62, 0x61, 0x73, 0x65], Dict{String, Vector{UInt8}}(), nothing, Dict{String, MeshCat.SceneTrees.SceneNode}(\"geometry_1\" => MeshCat.SceneTrees.SceneNode(UInt8[0x83, 0xa6, 0x6f, 0x62, 0x6a, 0x65, 0x63, 0x74, 0x84, 0xaa  …  0x67, 0x65, 0x6f, 0x6d, 0x65, 0x74, 0x72, 0x79, 0x5f, 0x31], UInt8[0x83, 0xa6, 0x6d, 0x61, 0x74, 0x72, 0x69, 0x78, 0xc7, 0x40  …  0x67, 0x65, 0x6f, 0x6d, 0x65, 0x74, 0x72, 0x79, 0x5f, 0x31], Dict{String, Vector{UInt8}}(), nothing, Dict{String, MeshCat.SceneTrees.SceneNode}()))))))))))), Set{HTTP.WebSockets.WebSocket}(), ip\"127.0.0.1\", 8700, HTTP.Servers.Server{HTTP.Servers.Listener{Nothing, Sockets.TCPServer}}(HTTP.Servers.Listener{Nothing, Sockets.TCPServer}(Sockets.InetAddr{Sockets.IPv4}(ip\"127.0.0.1\", 8700), \"127.0.0.1\", \"8700\", nothing, Sockets.TCPServer(Base.Libc.WindowsRawSocket(0x0000000000002620) active)), nothing, Set{HTTP.Connections.Connection}(), Task (runnable) @0x000002461abf5b30, ReentrantLock(nothing, 0x00000000, 0x00, Base.GenericCondition{Base.Threads.SpinLock}(Base.IntrusiveLinkedList{Task}(nothing, nothing), Base.Threads.SpinLock(0)), (0, 2500424950880, 3))), MeshCat.AnimationContext[]))"
      ]
     },
     "metadata": {},
     "output_type": "display_data"
    }
   ],
   "source": [
    "# visualize initial state\n",
    "mvis = initialize_visualizer(model)\n",
    "xic = initial_state(model)\n",
    "set_configuration!(mvis, xic[1:num_positions(model.mech)])\n",
    "render(mvis)"
   ]
  },
  {
   "cell_type": "code",
   "execution_count": 5,
   "id": "c8879692",
   "metadata": {},
   "outputs": [
    {
     "data": {
      "text/plain": [
       "hermite_simpson_ground (generic function with 1 method)"
      ]
     },
     "metadata": {},
     "output_type": "display_data"
    }
   ],
   "source": [
    "## set up discrete time dynamics\n",
    "\n",
    "# our continuous time dynamics function is xdot = dynamics(model, x, u)\n",
    "\n",
    "function hermite_simpson_ground(params::NamedTuple, x1::Vector, x2::Vector, u_hat::Vector, dt)::Vector\n",
    "    model = params.model\n",
    "    u = u_hat[1:end-4]\n",
    "    λ = u_hat[end-3:end]\n",
    "    \n",
    "    x12 = 0.5*(x1+x2) + dt/8*(dynamics(model, x1, u, λ) - dynamics(model, x2, u, λ))\n",
    "    return x1 + dt/6 * (dynamics(model, x1, u, λ) + 4 * dynamics(model, x12, u, λ) + dynamics(model, x2, u, λ)) - x2\n",
    "end"
   ]
  },
  {
   "cell_type": "code",
   "execution_count": 6,
   "id": "40d6663c",
   "metadata": {},
   "outputs": [
    {
     "data": {
      "text/plain": [
       "quadracat_cost (generic function with 1 method)"
      ]
     },
     "metadata": {},
     "output_type": "display_data"
    }
   ],
   "source": [
    "## set up cost\n",
    "\n",
    "function quadracat_cost(params::NamedTuple, Z::Vector)::Real\n",
    "    idx, N = params.idx, params.N\n",
    "    Q, R, Qf = params.Q, params.R, params.Qf\n",
    "    Xref,Uref = params.Xref, params.Uref\n",
    "\n",
    "    J = 0\n",
    "    for i=1:(N-1)\n",
    "        xi = Z[idx.x[i]]\n",
    "        ui = Z[idx.u[i]]\n",
    "        J += 0.5*(xi - Xref[i])'*Q*(xi - Xref[i]) + 0.5*(ui - Uref[i])'*R*(ui - Uref[i])\n",
    "    end\n",
    "    xN = Z[idx.x[N]]\n",
    "    J += 0.5*(xN - Xref[N])'*Qf*(xN - Xref[N])\n",
    "        \n",
    "    return J\n",
    "\n",
    "end"
   ]
  },
  {
   "cell_type": "code",
   "execution_count": 7,
   "id": "85f452c8",
   "metadata": {},
   "outputs": [
    {
     "data": {
      "text/plain": [
       "quadracat_equality_constraint (generic function with 1 method)"
      ]
     },
     "metadata": {},
     "output_type": "display_data"
    }
   ],
   "source": [
    "## set up equality constraints \n",
    "\n",
    "function quadracat_dynamics_constraints(params::NamedTuple, Z::Vector)::Vector\n",
    "    idx, N, dt = params.idx, params.N, params.dt\n",
    "\n",
    "    c = zeros(eltype(Z), idx.nc)\n",
    "\n",
    "    for i=1:(N-1)\n",
    "        xk = Z[idx.x[i]]\n",
    "        uk = Z[idx.u[i]]\n",
    "        xk1 = Z[idx.x[i+1]]\n",
    "\n",
    "        c[idx.c[i]] = hermite_simpson_ground(params, xk, xk1, uk, dt)\n",
    "    end\n",
    "    return c \n",
    "end\n",
    "\n",
    "function quadracat_stance_constraint(params::NamedTuple, Z::Vector)::Vector\n",
    "    idx, N, model = params.idx, params.N, params.model\n",
    "    nq = params.nq\n",
    "        \n",
    "    # create c in a ForwardDiff friendly way (check HW0)\n",
    "    c = zeros(eltype(Z), 0)\n",
    "    \n",
    "    # each foot is pinned to the ground\n",
    "    for i=1:(N-1)\n",
    "        xk = Z[idx.x[i]]\n",
    "        v = xk[nq+1:end]\n",
    "        # c = vcat(c, [\n",
    "        #                     get_foot_position(model, q, \"RR\")[3]; \n",
    "        #                     get_foot_position(model, q, \"RL\")[3];\n",
    "        #                     get_foot_position(model, q, \"FL\")[3];\n",
    "        #                     get_foot_position(model, q, \"FR\")[3]\n",
    "        #                     ])\n",
    "        c = vcat(c, [\n",
    "            (jac_foot(model, q, \"RR\")*v)[3];\n",
    "            (jac_foot(model, q, \"RL\")*v)[3];\n",
    "            (jac_foot(model, q, \"FL\")*v)[3];\n",
    "            (jac_foot(model, q, \"FR\")*v)[3]\n",
    "        ])\n",
    "    end\n",
    "\n",
    "    return c\n",
    "\n",
    "end\n",
    "\n",
    "function quadracat_equality_constraint(params::NamedTuple, Z::Vector)::Vector\n",
    "    N, idx, xic = params.N, params.idx, params.xic\n",
    "    xg = params.xg\n",
    "    \n",
    "    # TODO: stack up all of our equality constraints \n",
    "    \n",
    "    # should be length 2*nx + (N-1)*nx + N \n",
    "    # inital condition constraint (nx)       (constraint 1)\n",
    "    # terminal constraint         (nx)       (constraint 2)\n",
    "    # dynamics constraints        (N-1)*nx   (constraint 3-6)\n",
    "    # stance constraint           N          (constraint 7-8)\n",
    "    ic_con = Z[idx.x[1]] - xic\n",
    "    xg_con = Z[idx.x[N]] - xg\n",
    "    return [ic_con; \n",
    "    xg_con;\n",
    "    quadracat_dynamics_constraints(params, Z); \n",
    "    quadracat_stance_constraint(params, Z)\n",
    "    ]\n",
    "end"
   ]
  },
  {
   "cell_type": "code",
   "execution_count": null,
   "id": "0ddce8a3",
   "metadata": {},
   "outputs": [],
   "source": [
    "## set up inequality constraint \n",
    "\n",
    "function quadracat_inequality_constraint(params::NamedTuple, Z::Vector)::Vector\n",
    "    idx, N, model = params.idx, params.N, params.model\n",
    "    xg = params.xg\n",
    "        \n",
    "    # create c in a ForwardDiff friendly way (check HW0)\n",
    "    c = zeros(eltype(Z), 0)\n",
    "    \n",
    "    # for i=1:(N-1)\n",
    "    #     xk = Z[idx.x[i]]\n",
    "    #     v = xk[nq+1:end]\n",
    "    #     c = vcat(c, [\n",
    "    #         (jac_foot(model, q, \"RR\")*v)[3];\n",
    "    #         (jac_foot(model, q, \"RL\")*v)[3];\n",
    "    #         (jac_foot(model, q, \"FL\")*v)[3];\n",
    "    #         (jac_foot(model, q, \"FR\")*v)[3]\n",
    "    #     ])\n",
    "    # end\n",
    "\n",
    "    c = vcat(c, norm(Z[idx.x[N]] - xg, Inf))\n",
    "\n",
    "    return c\n",
    "end"
   ]
  },
  {
   "cell_type": "code",
   "execution_count": 8,
   "id": "c6d7f868",
   "metadata": {},
   "outputs": [
    {
     "data": {
      "text/plain": [
       "solve_quadracat_crouch (generic function with 1 method)"
      ]
     },
     "metadata": {},
     "output_type": "display_data"
    }
   ],
   "source": [
    "function solve_quadracat_crouch(;verbose=true)\n",
    "    \n",
    "    # problem size \n",
    "    nq = num_positions(model.mech)\n",
    "    nv = num_velocities(model.mech)\n",
    "    nx = nq+nv\n",
    "    nu = control_dim(model)+4 # stack normal forces at feet at the end of the control vector\n",
    "    \n",
    "    #Xref, Uref, t_vec = reference_trajectory(model)\n",
    "    #N = length(t_vec)\n",
    "    tf = 0.5\n",
    "    dt = 0.25\n",
    "    t_vec = 0:dt:tf \n",
    "    N = length(t_vec)\n",
    "    Xref = [initial_state(model) for i=1:N]\n",
    "    Uref = [0.001*randn(nu) for i=1:(N-1)]\n",
    "    \n",
    "    # LQR cost \n",
    "    Q = diagm(ones(nx))\n",
    "    R = 0.1*diagm(ones(nu))\n",
    "    Qf = 10*deepcopy(Q)\n",
    "    \n",
    "    # indexing \n",
    "    idx = create_idx(nx,nu,N)\n",
    "    \n",
    "    # initial and goal states \n",
    "    xic = Xref[1]\n",
    "    xg = Xref[end]\n",
    "\n",
    "    # initial guess \n",
    "    z0 = zeros(idx.nz)\n",
    "    for i=1:(N-1)\n",
    "        z0[idx.x[i]] = Xref[i]\n",
    "        z0[idx.u[i]] = Uref[i]\n",
    "    end\n",
    "    z0[idx.x[N]] = Xref[N]\n",
    "\n",
    "    # load all useful things into params \n",
    "    params = (\n",
    "        model=model,\n",
    "        nx=nx, \n",
    "        nu=nu, \n",
    "        nq=nq,\n",
    "        nv=nv,\n",
    "        dt=dt,\n",
    "        Q = Q, \n",
    "        R = R, \n",
    "        Qf = Qf, \n",
    "        xic = xic, \n",
    "        xg=xg,\n",
    "        N = N, \n",
    "        idx = idx,\n",
    "        g = 9.81,\n",
    "        Xref=Xref,\n",
    "        Uref=Uref\n",
    "        )\n",
    "    \n",
    "    # TODO: primal bounds \n",
    "    x_l = -Inf*ones(idx.nz)\n",
    "    x_u = Inf*ones(idx.nz)\n",
    "    for i = 1:(N-1)\n",
    "        x_l[idx.u[i][end-3:end]] = [0; 0; 0; 0]\n",
    "    end\n",
    "    \n",
    "    # inequality constraint bounds\n",
    "    c_l = zeros(0)\n",
    "    c_u = zeros(0)\n",
    "    function quadracat_inequality_constraint(params, Z)\n",
    "        return zeros(eltype(Z), 0)\n",
    "    end\n",
    "    # c_l = zeros(4*(N-1))\n",
    "    # c_u = Inf*ones(4*(N-1))\n",
    "    # c_l = -Inf*ones(1)\n",
    "    # c_u = 1e-2*ones(1)\n",
    "\n",
    "    \n",
    "    # choose diff type (try :auto, then use :finite if :auto doesn't work)\n",
    "    diff_type = :auto \n",
    "#     diff_type = :finite\n",
    "    \n",
    "    \n",
    "    Z = fmincon(quadracat_cost,quadracat_equality_constraint,quadracat_inequality_constraint,\n",
    "                x_l,x_u,c_l,c_u,z0,params, diff_type;\n",
    "                tol = 1e-6, c_tol = 1e-6, max_iters = 1_00, verbose = verbose)\n",
    "    \n",
    "    # pull the X and U solutions out of Z \n",
    "    X = [Z[idx.x[i]] for i = 1:N]\n",
    "    U = [Z[idx.u[i][1:end-4]] for i = 1:(N-1)]\n",
    "    λ = [Z[idx.u[i][end-3:end]] for i = 1:(N-1)]\n",
    "    \n",
    "    return X, U, λ, t_vec, params \n",
    "end"
   ]
  },
  {
   "cell_type": "code",
   "execution_count": 9,
   "id": "6efac026",
   "metadata": {},
   "outputs": [
    {
     "name": "stdout",
     "output_type": "stream",
     "text": [
      "---------checking dimensions of everything----------\n",
      "---------all dimensions good------------------------\n",
      "---------diff type set to :auto (ForwardDiff.jl)----\n",
      "---------testing objective gradient-----------------\n",
      "---------testing constraint Jacobian----------------\n",
      "---------successfully compiled both derivatives-----\n",
      "---------IPOPT beginning solve----------------------\n",
      "\n",
      "******************************************************************************\n",
      "This program contains Ipopt, a library for large-scale nonlinear optimization.\n",
      " Ipopt is released as open source code under the Eclipse Public License (EPL).\n",
      "         For more information visit https://github.com/coin-or/Ipopt\n",
      "******************************************************************************\n",
      "\n",
      "This is Ipopt version 3.14.17, running with linear solver MUMPS 5.7.3.\n",
      "\n",
      "Number of nonzeros in equality constraint Jacobian...:    22308\n",
      "Number of nonzeros in inequality constraint Jacobian.:        0\n",
      "Number of nonzeros in Lagrangian Hessian.............:        0\n",
      "\n",
      "Exception of type: TOO_FEW_DOF in file \"Interfaces/IpIpoptApplication.cpp\" at line 662:\n",
      " Exception message: status != TOO_FEW_DEGREES_OF_FREEDOM evaluated false: Too few degrees of freedom (rethrown)!\n",
      "\n",
      "EXIT: Problem has too few degrees of freedom.\n"
     ]
    },
    {
     "data": {
      "text/plain": [
       "([[1.0, 0.0, 0.0, 0.0, 0.0, 0.0, 0.2571150438746157, 0.0, 0.0, 0.0  …  0.0, 0.0, 0.0, 0.0, 0.0, 0.0, 0.0, 0.0, 0.0, 0.0], [1.0, 0.0, 0.0, 0.0, 0.0, 0.0, 0.2571150438746157, 0.0, 0.0, 0.0  …  0.0, 0.0, 0.0, 0.0, 0.0, 0.0, 0.0, 0.0, 0.0, 0.0], [1.0, 0.0, 0.0, 0.0, 0.0, 0.0, 0.2571150438746157, 0.0, 0.0, 0.0  …  0.0, 0.0, 0.0, 0.0, 0.0, 0.0, 0.0, 0.0, 0.0, 0.0]], [[0.0010716451739527923, 0.00022178932990277582, -0.0007069601122874432, -0.0010414112651248159, -0.00038547592294858917, 0.0015599135383077515, 0.0002549837655025387, -0.0017942302592989477, 0.0009273378452333733, 0.00232222286935268, 0.00029362123115416524, 8.58211547061595e-5], [-0.0009338919954614165, -0.0004335443858093089, -2.2663382287361536e-5, 0.0009995669988619492, 0.00047142606202405695, 0.0017197699628307616, 0.00023769539892420718, -0.0011830595012439174, 0.002396729903442467, 0.0003949566469809054, 0.0010334929615269538, 0.0007131802280928242]], [[-0.0004505908881940552, 0.0002638274931451017, 0.001216901740616164, -0.0006615679428792844], [-0.0004516577618853813, 0.0006909438526440006, -0.0011533369626827315, -0.00017077518178919924]], 0.0:0.25:0.5, (model = UnitreeA1{StateCache{Float64, TypeSortedCollections.TypeSortedCollection{Tuple{Vector{Joint{Float64, QuaternionFloating{Float64}}}, Vector{Joint{Float64, Fixed{Float64}}}, Vector{Joint{Float64, Revolute{Float64}}}}, 3}}}(Spanning tree:\n",
       "Vertex: world (root)\n",
       "  Vertex: base, Edge: base_to_world\n",
       "    Vertex: trunk, Edge: floating_base\n",
       "      Vertex: imu_link, Edge: imu_joint\n",
       "      Vertex: FR_hip, Edge: FR_hip_joint\n",
       "        Vertex: FR_thigh, Edge: FR_thigh_joint\n",
       "          Vertex: FR_calf, Edge: FR_calf_joint\n",
       "            Vertex: FR_foot, Edge: FR_foot_fixed\n",
       "      Vertex: FL_hip, Edge: FL_hip_joint\n",
       "        Vertex: FL_thigh, Edge: FL_thigh_joint\n",
       "          Vertex: FL_calf, Edge: FL_calf_joint\n",
       "            Vertex: FL_foot, Edge: FL_foot_fixed\n",
       "      Vertex: RR_hip, Edge: RR_hip_joint\n",
       "        Vertex: RR_thigh, Edge: RR_thigh_joint\n",
       "          Vertex: RR_calf, Edge: RR_calf_joint\n",
       "            Vertex: RR_foot, Edge: RR_foot_fixed\n",
       "      Vertex: RL_hip, Edge: RL_hip_joint\n",
       "        Vertex: RL_thigh, Edge: RL_thigh_joint\n",
       "          Vertex: RL_calf, Edge: RL_calf_joint\n",
       "            Vertex: RL_foot, Edge: RL_foot_fixed\n",
       "No non-tree joints., StateCache{…}(…), DynamicsResultCache{Float64}(…), [0.0, 0.0, 0.0, 0.0, 0.0, 0.0, 0.0, 0.0, 0.0, 0.0  …  0.0, 0.0, 0.0, 0.0, 0.0, 0.0, 0.0, 0.0, 0.0, 0.0]), nx = 37, nu = 16, nq = 19, nv = 18, dt = 0.25, Q = [1.0 0.0 … 0.0 0.0; 0.0 1.0 … 0.0 0.0; … ; 0.0 0.0 … 1.0 0.0; 0.0 0.0 … 0.0 1.0], R = [0.1 0.0 … 0.0 0.0; 0.0 0.1 … 0.0 0.0; … ; 0.0 0.0 … 0.1 0.0; 0.0 0.0 … 0.0 0.1], Qf = [10.0 0.0 … 0.0 0.0; 0.0 10.0 … 0.0 0.0; … ; 0.0 0.0 … 10.0 0.0; 0.0 0.0 … 0.0 10.0], xic = [1.0, 0.0, 0.0, 0.0, 0.0, 0.0, 0.2571150438746157, 0.0, 0.0, 0.0  …  0.0, 0.0, 0.0, 0.0, 0.0, 0.0, 0.0, 0.0, 0.0, 0.0], xg = [1.0, 0.0, 0.0, 0.0, 0.0, 0.0, 0.2571150438746157, 0.0, 0.0, 0.0  …  0.0, 0.0, 0.0, 0.0, 0.0, 0.0, 0.0, 0.0, 0.0, 0.0], N = 3, idx = (nx = 37, nu = 16, N = 3, nz = 143, nc = 74, x = UnitRange{Int64}[1:37, 54:90, 107:143], u = UnitRange{Int64}[38:53, 91:106], c = UnitRange{Int64}[1:37, 38:74]), g = 9.81, Xref = [[1.0, 0.0, 0.0, 0.0, 0.0, 0.0, 0.2571150438746157, 0.0, 0.0, 0.0  …  0.0, 0.0, 0.0, 0.0, 0.0, 0.0, 0.0, 0.0, 0.0, 0.0], [1.0, 0.0, 0.0, 0.0, 0.0, 0.0, 0.2571150438746157, 0.0, 0.0, 0.0  …  0.0, 0.0, 0.0, 0.0, 0.0, 0.0, 0.0, 0.0, 0.0, 0.0], [1.0, 0.0, 0.0, 0.0, 0.0, 0.0, 0.2571150438746157, 0.0, 0.0, 0.0  …  0.0, 0.0, 0.0, 0.0, 0.0, 0.0, 0.0, 0.0, 0.0, 0.0]], Uref = [[0.0010716451739527923, 0.00022178932990277582, -0.0007069601122874432, -0.0010414112651248159, -0.00038547592294858917, 0.0015599135383077515, 0.0002549837655025387, -0.0017942302592989477, 0.0009273378452333733, 0.00232222286935268, 0.00029362123115416524, 8.58211547061595e-5, -0.0004505908881940552, 0.0002638274931451017, 0.001216901740616164, -0.0006615679428792844], [-0.0009338919954614165, -0.0004335443858093089, -2.2663382287361536e-5, 0.0009995669988619492, 0.00047142606202405695, 0.0017197699628307616, 0.00023769539892420718, -0.0011830595012439174, 0.002396729903442467, 0.0003949566469809054, 0.0010334929615269538, 0.0007131802280928242, -0.0004516577618853813, 0.0006909438526440006, -0.0011533369626827315, -0.00017077518178919924]]))"
      ]
     },
     "metadata": {},
     "output_type": "display_data"
    }
   ],
   "source": [
    "X, U, λ, t_vec, params_dircol = solve_quadracat_crouch(verbose=true)"
   ]
  },
  {
   "cell_type": "code",
   "execution_count": null,
   "id": "bd550384",
   "metadata": {},
   "outputs": [],
   "source": [
    "qs = [xk[1:num_positions(model.mech)] for xk in X] # extract positions from state vector\n",
    "\n",
    "mvis = initialize_visualizer(model)\n",
    "xic = initial_state(model)\n",
    "set_configuration!(mvis, xic[1:num_positions(model.mech)])\n",
    "anim = MeshCat.Animation(mvis, t_vec, qs)\n",
    "setanimation!(mvis, anim)\n",
    "render(mvis)"
   ]
  },
  {
   "cell_type": "code",
   "execution_count": null,
   "id": "fb419b7e",
   "metadata": {},
   "outputs": [],
   "source": [
    "nq = params_dircol.nq\n",
    "# ------------plotting--------------\n",
    "Xm = hcat(X...)\n",
    "Um = hcat(U...)\n",
    "λm = hcat(λ...)\n",
    "\n",
    "display(plot(t_vec, Xm[1:7,:]', xlabel=\"Time Step\", ylabel=\"q\", title=\"Floating Body Position\"))\n",
    "display(plot(t_vec, Xm[8:nq,:]', xlabel=\"Time Step\", ylabel=\"q\", title=\"Joint Angles\"))\n",
    "display(plot(t_vec, Xm[nq+1:nq+6,:]', xlabel=\"Time Step\", ylabel=\"v\", title=\"Floating Body Velocity\"))\n",
    "display(plot(t_vec, Xm[nq+7:end,:]', xlabel=\"Time Step\", ylabel=\"v\", title=\"Joint Velocities\"))\n",
    "display(plot(t_vec[1:end-1], Um', xlabel=\"Time Step\", ylabel=\"u\", title=\"Controls\"))\n",
    "display(plot(t_vec[1:end-1], λm', xlabel=\"Time Step\", ylabel=\"u\", title=\"Contact Forces\"))"
   ]
  },
  {
   "cell_type": "code",
   "execution_count": null,
   "id": "5c20eec3",
   "metadata": {},
   "outputs": [],
   "source": []
  }
 ],
 "metadata": {
  "kernelspec": {
   "display_name": "Julia 1.10.7",
   "language": "julia",
   "name": "julia-1.10"
  },
  "language_info": {
   "file_extension": ".jl",
   "mimetype": "application/julia",
   "name": "julia",
   "version": "1.10.7"
  }
 },
 "nbformat": 4,
 "nbformat_minor": 5
}
