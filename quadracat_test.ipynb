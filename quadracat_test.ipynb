{
 "cells": [
  {
   "cell_type": "code",
   "execution_count": 4,
   "id": "ce3c6d83",
   "metadata": {},
   "outputs": [
    {
     "name": "stderr",
     "output_type": "stream",
     "text": [
      "\u001b[32m\u001b[1m  Activating\u001b[22m\u001b[39m project at `c:\\Users\\aphia\\Desktop\\school\\ocrl\\QuadraCat`\n"
     ]
    }
   ],
   "source": [
    "import Pkg\n",
    "Pkg.activate(@__DIR__)\n",
    "Pkg.instantiate()\n",
    "import MathOptInterface as MOI\n",
    "using JuMP, Ipopt\n",
    "using LinearAlgebra, Plots\n",
    "import FiniteDiff\n",
    "import ForwardDiff as FD\n",
    "using MeshCat\n",
    "using Test\n",
    "using Plots"
   ]
  },
  {
   "cell_type": "code",
   "execution_count": 5,
   "id": "8fa4f7dc",
   "metadata": {},
   "outputs": [
    {
     "data": {
      "text/plain": [
       "initialize_visualizer (generic function with 1 method)"
      ]
     },
     "metadata": {},
     "output_type": "display_data"
    }
   ],
   "source": [
    "# include the functions from quadruped.jl\n",
    "include(joinpath(@__DIR__, \"utils\", \"fmincon.jl\"))\n",
    "include(joinpath(@__DIR__, \"utils\", \"quadruped.jl\"))\n",
    "\n",
    "# this loads in our continuous time dynamics function xdot = dynamics(model, x, u)"
   ]
  },
  {
   "cell_type": "code",
   "execution_count": 7,
   "id": "a0a64dad",
   "metadata": {},
   "outputs": [
    {
     "data": {
      "text/plain": [
       "51-element Vector{Vector{Float64}}:\n",
       " [0.0, 0.0, 0.0, 0.0, 0.0, 0.0, 0.0, 0.0, 0.0, 0.0  …  0.0, 0.0, 0.0, 0.0, 0.0, 0.0, 0.0, 0.0, 0.0, 0.0]\n",
       " [0.0, 0.0, 0.0, 0.0, 0.0, 0.0, 0.0, 0.0, 0.0, 0.0  …  0.0, 0.0, 0.0, 0.0, 0.0, 0.0, 0.0, 0.0, 0.0, 0.0]\n",
       " [0.0, 0.0, 0.0, 0.0, 0.0, 0.0, 0.0, 0.0, 0.0, 0.0  …  0.0, 0.0, 0.0, 0.0, 0.0, 0.0, 0.0, 0.0, 0.0, 0.0]\n",
       " [0.0, 0.0, 0.0, 0.0, 0.0, 0.0, 0.0, 0.0, 0.0, 0.0  …  0.0, 0.0, 0.0, 0.0, 0.0, 0.0, 0.0, 0.0, 0.0, 0.0]\n",
       " [0.0, 0.0, 0.0, 0.0, 0.0, 0.0, 0.0, 0.0, 0.0, 0.0  …  0.0, 0.0, 0.0, 0.0, 0.0, 0.0, 0.0, 0.0, 0.0, 0.0]\n",
       " [0.0, 0.0, 0.0, 0.0, 0.0, 0.0, 0.0, 0.0, 0.0, 0.0  …  0.0, 0.0, 0.0, 0.0, 0.0, 0.0, 0.0, 0.0, 0.0, 0.0]\n",
       " [0.0, 0.0, 0.0, 0.0, 0.0, 0.0, 0.0, 0.0, 0.0, 0.0  …  0.0, 0.0, 0.0, 0.0, 0.0, 0.0, 0.0, 0.0, 0.0, 0.0]\n",
       " [0.0, 0.0, 0.0, 0.0, 0.0, 0.0, 0.0, 0.0, 0.0, 0.0  …  0.0, 0.0, 0.0, 0.0, 0.0, 0.0, 0.0, 0.0, 0.0, 0.0]\n",
       " [0.0, 0.0, 0.0, 0.0, 0.0, 0.0, 0.0, 0.0, 0.0, 0.0  …  0.0, 0.0, 0.0, 0.0, 0.0, 0.0, 0.0, 0.0, 0.0, 0.0]\n",
       " [0.0, 0.0, 0.0, 0.0, 0.0, 0.0, 0.0, 0.0, 0.0, 0.0  …  0.0, 0.0, 0.0, 0.0, 0.0, 0.0, 0.0, 0.0, 0.0, 0.0]\n",
       " ⋮\n",
       " [0.0, 0.0, 0.0, 0.0, 0.0, 0.0, 0.0, 0.0, 0.0, 0.0  …  0.0, 0.0, 0.0, 0.0, 0.0, 0.0, 0.0, 0.0, 0.0, 0.0]\n",
       " [0.0, 0.0, 0.0, 0.0, 0.0, 0.0, 0.0, 0.0, 0.0, 0.0  …  0.0, 0.0, 0.0, 0.0, 0.0, 0.0, 0.0, 0.0, 0.0, 0.0]\n",
       " [0.0, 0.0, 0.0, 0.0, 0.0, 0.0, 0.0, 0.0, 0.0, 0.0  …  0.0, 0.0, 0.0, 0.0, 0.0, 0.0, 0.0, 0.0, 0.0, 0.0]\n",
       " [0.0, 0.0, 0.0, 0.0, 0.0, 0.0, 0.0, 0.0, 0.0, 0.0  …  0.0, 0.0, 0.0, 0.0, 0.0, 0.0, 0.0, 0.0, 0.0, 0.0]\n",
       " [0.0, 0.0, 0.0, 0.0, 0.0, 0.0, 0.0, 0.0, 0.0, 0.0  …  0.0, 0.0, 0.0, 0.0, 0.0, 0.0, 0.0, 0.0, 0.0, 0.0]\n",
       " [0.0, 0.0, 0.0, 0.0, 0.0, 0.0, 0.0, 0.0, 0.0, 0.0  …  0.0, 0.0, 0.0, 0.0, 0.0, 0.0, 0.0, 0.0, 0.0, 0.0]\n",
       " [0.0, 0.0, 0.0, 0.0, 0.0, 0.0, 0.0, 0.0, 0.0, 0.0  …  0.0, 0.0, 0.0, 0.0, 0.0, 0.0, 0.0, 0.0, 0.0, 0.0]\n",
       " [0.0, 0.0, 0.0, 0.0, 0.0, 0.0, 0.0, 0.0, 0.0, 0.0  …  0.0, 0.0, 0.0, 0.0, 0.0, 0.0, 0.0, 0.0, 0.0, 0.0]\n",
       " [0.0, 0.0, 0.0, 0.0, 0.0, 0.0, 0.0, 0.0, 0.0, 0.0  …  0.0, 0.0, 0.0, 0.0, 0.0, 0.0, 0.0, 0.0, 0.0, 0.0]"
      ]
     },
     "metadata": {},
     "output_type": "display_data"
    }
   ],
   "source": [
    "a1 = UnitreeA1() # contains all the model properties for the quadruped\n",
    "\n",
    "tf = 5\n",
    "dt = 0.1\n",
    "\n",
    "t_vec = 0:dt:tf \n",
    "N = length(t_vec)\n",
    "X = [zeros(state_dim(a1)) for i in 1:N]"
   ]
  },
  {
   "cell_type": "code",
   "execution_count": 8,
   "id": "b045e8a9",
   "metadata": {},
   "outputs": [
    {
     "data": {
      "text/plain": [
       "foot_position (generic function with 2 methods)"
      ]
     },
     "metadata": {},
     "output_type": "display_data"
    }
   ],
   "source": [
    "function foot_position(q::AbstractVector, mech::Mechanism, foot=\"RR\")\n",
    "    state = MechanismState(mech)\n",
    "    set_configuration!(state, q)\n",
    "\n",
    "    foot_body = findbody(mech, foot * \"_foot\")\n",
    "    world_frame = default_frame(root_body(mech))\n",
    "    foot_frame = default_frame(foot_body)\n",
    "\n",
    "    tf = transform(state, world_frame, foot_frame)\n",
    "    return translation(tf)\n",
    "end\n"
   ]
  },
  {
   "cell_type": "code",
   "execution_count": 9,
   "id": "fb4fcf77",
   "metadata": {},
   "outputs": [
    {
     "data": {
      "text/plain": [
       "optimize_jump (generic function with 1 method)"
      ]
     },
     "metadata": {},
     "output_type": "display_data"
    }
   ],
   "source": [
    "\n",
    "\n",
    "function optimize_jump()\n",
    "    mech = a1.mech\n",
    "    nq = num_positions(mech)\n",
    "    nv = num_velocities(mech)\n",
    "    N = 10   # time steps\n",
    "    dt = 0.02\n",
    "\n",
    "    model = Model(Ipopt.Optimizer)\n",
    "    set_silent(model)\n",
    "\n",
    "    # Decision variables\n",
    "    @variable(model, q[1:nq, 1:N])\n",
    "    @variable(model, v[1:nv, 1:N])\n",
    "    @variable(model, τ[1:nv, 1:N-1])\n",
    "\n",
    "    # Initial condition (standing pose)\n",
    "    q0 = configuration(MechanismState(mech))\n",
    "    v0 = zeros(nv)\n",
    "    @constraint(model, q[:, 1] .== q0)\n",
    "    @constraint(model, v[:, 1] .== v0)\n",
    "\n",
    "    # Dynamics constraints (Euler integration)\n",
    "    for k = 1:N-1\n",
    "        state = MechanismState(mech)\n",
    "        @NLconstraint(model, [i=1:nq], q[i, k+1] == q[i, k] + dt * v[i, k])\n",
    "        # acceleration dynamics via implicit FD\n",
    "        set_configuration!(state, q[:, k])\n",
    "        set_velocity!(state, v[:, k])\n",
    "        τk = τ[:, k]\n",
    "        cache = DynamicsResultCache(mech)\n",
    "        dynamics!(cache, state, τk)\n",
    "        a = acceleration(cache)\n",
    "        @NLconstraint(model, [i=1:nv], v[i, k+1] == v[i, k] + dt * a[i])\n",
    "    end\n",
    "\n",
    "    # Foot constraint during STANCE (first 3 timesteps)\n",
    "    for k = 1:3\n",
    "        register(model, :foot_pos_z, nq, (x) -> foot_position(x, mech, \"RR\")[3], autodiff = true)\n",
    "        @NLconstraint(model, foot_pos_z(q[:, k]) == 0.0)  # on the ground\n",
    "    end\n",
    "\n",
    "    # Flight phase (lift-off), foot above ground\n",
    "    for k = 4:N\n",
    "        register(model, :foot_pos_z, nq, (x) -> foot_position(x, mech, \"RR\")[3], autodiff = true)\n",
    "        @NLconstraint(model, foot_pos_z(q[:, k]) ≥ 0.05)  # minimum 5cm clearance\n",
    "    end\n",
    "\n",
    "    # Objective: maximize base height at peak\n",
    "    register(model, :base_z, nq, x -> x[3], autodiff = true)  # z of floating base\n",
    "    @objective(model, Max, base_z(q[:, div(N,2)]))\n",
    "\n",
    "    optimize!(model)\n",
    "\n",
    "    return value.(q), value.(v), value.(τ)\n",
    "end\n"
   ]
  },
  {
   "cell_type": "code",
   "execution_count": 11,
   "id": "5a19078f",
   "metadata": {},
   "outputs": [
    {
     "ename": "MethodError",
     "evalue": "MethodError: Cannot `convert` an object of type VariableRef to an object of type Float64\n\nClosest candidates are:\n  convert(::Type{T}, !Matched::T) where T\n   @ Base Base.jl:84\n  convert(::Type{T}, !Matched::Gray) where T<:Real\n   @ ColorTypes C:\\Users\\aphia\\.julia\\packages\\ColorTypes\\vpFgh\\src\\conversions.jl:113\n  convert(::Type{T}, !Matched::Gray24) where T<:Real\n   @ ColorTypes C:\\Users\\aphia\\.julia\\packages\\ColorTypes\\vpFgh\\src\\conversions.jl:114\n  ...\n",
     "output_type": "error",
     "traceback": [
      "MethodError: Cannot `convert` an object of type VariableRef to an object of type Float64\n",
      "\n",
      "Closest candidates are:\n",
      "  convert(::Type{T}, !Matched::T) where T\n",
      "   @ Base Base.jl:84\n",
      "  convert(::Type{T}, !Matched::Gray) where T<:Real\n",
      "   @ ColorTypes C:\\Users\\aphia\\.julia\\packages\\ColorTypes\\vpFgh\\src\\conversions.jl:113\n",
      "  convert(::Type{T}, !Matched::Gray24) where T<:Real\n",
      "   @ ColorTypes C:\\Users\\aphia\\.julia\\packages\\ColorTypes\\vpFgh\\src\\conversions.jl:114\n",
      "  ...\n",
      "\n",
      "\n",
      "Stacktrace:\n",
      " [1] setindex!(A::Vector{Float64}, x::VariableRef, i1::Int64)\n",
      "   @ Base .\\array.jl:1021\n",
      " [2] setindex!\n",
      "   @ C:\\Users\\aphia\\.julia\\packages\\RigidBodyDynamics\\UsOcC\\src\\custom_collections\\SegmentedVector.jl:102 [inlined]\n",
      " [3] copyto_unaliased!\n",
      "   @ .\\abstractarray.jl:1101 [inlined]\n",
      " [4] copyto!(dest::SegmentedVector{JointID, Float64, Base.OneTo{JointID}, Vector{Float64}}, src::Vector{VariableRef})\n",
      "   @ Base .\\abstractarray.jl:1067\n",
      " [5] set_configuration!(state::MechanismState{Float64, Float64, Float64, TypeSortedCollections.TypeSortedCollection{Tuple{Vector{Joint{Float64, Revolute{Float64}}}, Vector{Joint{Float64, Fixed{Float64}}}}, 2}}, q::Vector{VariableRef})\n",
      "   @ RigidBodyDynamics C:\\Users\\aphia\\.julia\\packages\\RigidBodyDynamics\\UsOcC\\src\\mechanism_state.jl:421\n",
      " [6] optimize_jump()\n",
      "   @ Main c:\\Users\\aphia\\Desktop\\school\\ocrl\\QuadraCat\\jl_notebook_cell_df34fa98e69747e1a8f8a730347b8e2f_W4sZmlsZQ==.jl:29\n",
      " [7] top-level scope\n",
      "   @ c:\\Users\\aphia\\Desktop\\school\\ocrl\\QuadraCat\\jl_notebook_cell_df34fa98e69747e1a8f8a730347b8e2f_X11sZmlsZQ==.jl:1"
     ]
    }
   ],
   "source": [
    "q, v, τ = optimize_jump()"
   ]
  },
  {
   "cell_type": "code",
   "execution_count": 10,
   "id": "cbb72f99",
   "metadata": {},
   "outputs": [
    {
     "data": {
      "text/plain": [
       "plot_base_z (generic function with 1 method)"
      ]
     },
     "metadata": {},
     "output_type": "display_data"
    }
   ],
   "source": [
    "using Plots\n",
    "\n",
    "function plot_base_z(q_traj)\n",
    "    z_vals = q_traj[3, :]  # index 3 is base z in floating-base coordinates\n",
    "    plot(z_vals, xlabel=\"Time Step\", ylabel=\"Base Height (m)\", title=\"Jump Trajectory\")\n",
    "end\n"
   ]
  },
  {
   "cell_type": "code",
   "execution_count": null,
   "id": "c2559625",
   "metadata": {},
   "outputs": [],
   "source": []
  }
 ],
 "metadata": {
  "kernelspec": {
   "display_name": "Julia 1.10.7",
   "language": "julia",
   "name": "julia-1.10"
  },
  "language_info": {
   "file_extension": ".jl",
   "mimetype": "application/julia",
   "name": "julia",
   "version": "1.10.7"
  }
 },
 "nbformat": 4,
 "nbformat_minor": 5
}
